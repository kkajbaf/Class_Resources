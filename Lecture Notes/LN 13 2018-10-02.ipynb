{
 "cells": [
  {
   "cell_type": "markdown",
   "metadata": {},
   "source": [
    "### Lecture 13 2018-10-02: functions, modules\n",
    "\n",
    "This worksheet accompanies the lecture notes.\n",
    "\n"
   ]
  },
  {
   "cell_type": "markdown",
   "metadata": {
    "heading_collapsed": true
   },
   "source": [
    "## Function Definition, Abstraction ##\n",
    "\n",
    "Functions are collections of code that transform input objects into return objects. \n",
    "Functions can return *any* object (lists, tuples, strings, even functions)\n",
    "They *encapsulate* code, so that you can *reuse* code. \n",
    "Object methods are functions that exist inside an object. But functions need not be inside objects.\n",
    "\n",
    "If you find yourself copying and pasting the same code, but with different parameters, consider defining and using a function"
   ]
  },
  {
   "cell_type": "markdown",
   "metadata": {
    "heading_collapsed": true,
    "hidden": true
   },
   "source": [
    "### creating functions\n",
    "\n",
    "Use *def* to begin a function definition and *return* to return a value. \n",
    "Remember that indentation defines which code belongs in this definition, so *return* can appear anywhere.\n",
    "\n",
    "To define a function f that takes input p and returns r, where both p and r can be a variable, list, tuple, function, etc., the syntax is:\n",
    "\n",
    "```\n",
    "def f(p):\n",
    "    '''\n",
    "    long comments here to describe f, p, r\n",
    "    optional, but STRONGLY recommended\n",
    "    '''\n",
    "    ...your code here...\n",
    "    return(r)\n",
    "```\n",
    "\n",
    "To use a function f with input parameters p:\n",
    "\n",
    ">f(p)\n"
   ]
  },
  {
   "cell_type": "markdown",
   "metadata": {
    "hidden": true
   },
   "source": [
    "Return can be formatted with or without parentheses.\n",
    "That is, to return *value* you can use either\n",
    "\n",
    ">return(value)\n",
    "\n",
    "or \n",
    ">return value"
   ]
  },
  {
   "cell_type": "markdown",
   "metadata": {
    "hidden": true
   },
   "source": [
    "You can have multiple *return* statements"
   ]
  },
  {
   "cell_type": "code",
   "execution_count": 2,
   "metadata": {
    "hidden": true
   },
   "outputs": [],
   "source": [
    "def is_even(n):\n",
    "    if n%2 == 0: return True\n",
    "    else: return False"
   ]
  },
  {
   "cell_type": "code",
   "execution_count": null,
   "metadata": {
    "hidden": true
   },
   "outputs": [],
   "source": []
  },
  {
   "cell_type": "markdown",
   "metadata": {
    "hidden": true
   },
   "source": [
    "If there is no *return*, the last thing mentioned is the return value. \n",
    "This can be confusing, so always return a value. \n",
    "If you want to not return a value, then \n",
    "\n",
    ">return None"
   ]
  },
  {
   "cell_type": "markdown",
   "metadata": {
    "heading_collapsed": true,
    "hidden": true
   },
   "source": [
    "### Example of functions \n",
    "\n",
    "suppose we have"
   ]
  },
  {
   "cell_type": "code",
   "execution_count": 3,
   "metadata": {
    "hidden": true
   },
   "outputs": [],
   "source": [
    "read_codes = [\"A\",\"C\",\"G\",\"T\",\"N\",\"Y\",\"U\"]\n",
    "\n",
    "nucleotides = read_codes[:4]\n",
    "ambiguity_codes = read_codes[4:]\n",
    "\n",
    "sequence=\"CGCAGCNNYYGCATTUUNAAGCYACTCCGYYCCTGGGGAGTNNNTTGAA\""
   ]
  },
  {
   "cell_type": "markdown",
   "metadata": {
    "hidden": true
   },
   "source": [
    "Suppose we want to write a function that takes a nucleotide sequence and a set of character codes for reads, and returns a list with corresponding counts of the number of times each code appears in the sequence.\n",
    "\n",
    "For example, we want code such that \n",
    "\n",
    ">count_codes('ACCGN', 'AGCTNV') returns [1, 1, 2, 0, 1, 0]\n",
    "\n",
    "*Always* use good names for functions and input/output parameters, and include a description of the function in long cmoments just after the definition. \n"
   ]
  },
  {
   "cell_type": "code",
   "execution_count": 4,
   "metadata": {
    "hidden": true
   },
   "outputs": [],
   "source": [
    "def count_codes(sequence, codes):\n",
    "    '''\n",
    "    Input: a string of characters, sequence, and a list of codes, codes\n",
    "    \n",
    "    Output: a list [c1, ... ci, ... cn] where ci is the number of times the ith entry in codes appears in sequence\n",
    "    '''\n",
    "    counts=[]\n",
    "    for next_code in codes:\n",
    "        counts.append( sequence.count(next_code) )\n",
    "    return(counts) "
   ]
  },
  {
   "cell_type": "code",
   "execution_count": null,
   "metadata": {
    "hidden": true
   },
   "outputs": [],
   "source": [
    "counts = count_codes( sequence, nucleotides )\n",
    "\n",
    "print( '\\ncount_codes({}, {}) returns {}'.format(sequence, nucleotides, counts) )\n",
    "\n",
    "print( '\\ncount_codes( sequence, nucleotides ) returns {}'.format(count_codes( sequence, read_codes)))\n",
    "\n",
    "print( '\\n{0} has {1} nucleotides and {2} ambiguity codes, where nucleotides = {3} and ambituity codes = {4}'.format(\n",
    "    sequence, \n",
    "    count_codes( sequence, nucleotides ), \n",
    "    count_codes( sequence, ambiguity_codes ), \n",
    "    nucleotides, \n",
    "    ambiguity_codes) \n",
    "    )"
   ]
  },
  {
   "cell_type": "markdown",
   "metadata": {
    "hidden": true
   },
   "source": [
    "#### better code\n",
    "\n",
    "Another example, that's a bit more pythonic would use comprehension and return a dict, so one could look up individual counts more easily."
   ]
  },
  {
   "cell_type": "code",
   "execution_count": null,
   "metadata": {
    "hidden": true
   },
   "outputs": [],
   "source": [
    "def count_codes(sequence, codes):\n",
    "    '''\n",
    "    Input: a an iterable variable of characters, sequence, and an iterable variable of codes, codes\n",
    "    \n",
    "    Output: a tuple ((c1, n1), (c2, n2), ...) where ni is the number of times ci in codes appears in sequence, sorted\n",
    "    '''\n",
    "    counts=[sequence.count(char) for char in codes]\n",
    "    return dict(zip(codes, counts))\n",
    "\n",
    "# example\n",
    "counts = count_codes( sequence, nucleotides )\n",
    "print(counts)\n",
    "print(counts['G'])"
   ]
  },
  {
   "cell_type": "markdown",
   "metadata": {
    "heading_collapsed": true,
    "hidden": true
   },
   "source": [
    "### reusing the code\n",
    "\n",
    "To get a tab delimited output, which may be easier for humans to read"
   ]
  },
  {
   "cell_type": "code",
   "execution_count": 13,
   "metadata": {
    "hidden": true
   },
   "outputs": [
    {
     "name": "stdout",
     "output_type": "stream",
     "text": [
      "A\t8\n",
      "C\t10\n",
      "G\t11\n",
      "T\t7\n"
     ]
    }
   ],
   "source": [
    "for char, count in sorted(count_codes( sequence, nucleotides ).items() ):\n",
    "    print('{}\\t{}'.format(char,count) )"
   ]
  },
  {
   "cell_type": "markdown",
   "metadata": {
    "hidden": true
   },
   "source": [
    "The function allows us to re-use the code with different parameters.\n",
    "\n",
    "Note that we can use lists, strings, or tuples (even dicts!) for either the sequences or the code sets.\n",
    "This is an example of \"hardened\" code, which is forgiving of user input. \n",
    "\n",
    "But this code ignores the occurances of codes in the sequence that don't appear in the code list. \n",
    "For example, in 'ACNTKT' there are two 'T's, but if one uses code set ('A', 'C'), they are just ignored.\n",
    "\n",
    "*Is this the right thing to do?*"
   ]
  },
  {
   "cell_type": "code",
   "execution_count": null,
   "metadata": {
    "hidden": true
   },
   "outputs": [],
   "source": [
    "sequences = ['ACNTKT', 'GN?ZX',]\n",
    "code_set = [[\"A\",\"C\",\"G\",\"T\",\"N\",\"Y\",\"U\"], 'ACGTN?XYK', ('A','C'), {'A':'a', 'C': 'c', '?': '-'} ]\n",
    "for next_sequence in sequences:\n",
    "    for next_code_set in code_set:\n",
    "        print('\\nworking on sequence {} and code_set {}'.format(\n",
    "            next_sequence, next_code_set) \n",
    "             )\n",
    "        for char, count in sorted(count_codes( next_sequence, next_code_set).items() ):\n",
    "            print('{}\\t{}'.format(char,count) )"
   ]
  },
  {
   "cell_type": "markdown",
   "metadata": {
    "hidden": true
   },
   "source": [
    "One can even convert this to a dict, so one can return specific counts."
   ]
  },
  {
   "cell_type": "markdown",
   "metadata": {
    "heading_collapsed": true,
    "hidden": true
   },
   "source": [
    "### Optional parameter with default values\n",
    "\n",
    "if the parameter is of the form *p=default* then it is optional, and has the value *default* if it is omitted. \n",
    "To use a value other than the default, just include *p=my_value* in the parameter list.\n",
    "\n",
    "optional parameters can be in any order\n",
    "\n",
    "In this example, the sequence parameter is required, and the default ambiguity code list is 'ACGTNXY?'. To count only non-ambiguous characters, override the default with *'ACGT'*."
   ]
  },
  {
   "cell_type": "code",
   "execution_count": 18,
   "metadata": {
    "hidden": true
   },
   "outputs": [],
   "source": [
    "def count_codes(sequence, codes = 'ACGTNXY?'):\n",
    "    '''\n",
    "    Input: a an iterable variable of characters, sequence, and an iterable variable of codes, codes\n",
    "    \n",
    "    Output: a tuple ((c1, n1), (c2, n2), ...) where ni is the number of times ci in codes appears in sequence, sorted\n",
    "    '''\n",
    "    counts=[sequence.count(char) for char in codes]\n",
    "    return dict(zip(codes, counts))"
   ]
  },
  {
   "cell_type": "code",
   "execution_count": null,
   "metadata": {
    "hidden": true
   },
   "outputs": [],
   "source": [
    "# use default ambiguity codes\n",
    "count_codes('ACCGN')"
   ]
  },
  {
   "cell_type": "code",
   "execution_count": null,
   "metadata": {
    "hidden": true
   },
   "outputs": [],
   "source": [
    "# count only non-ambiguous codes\n",
    "count_codes('ACCGN', codes='ACGT')"
   ]
  },
  {
   "cell_type": "markdown",
   "metadata": {
    "heading_collapsed": true,
    "hidden": true
   },
   "source": [
    "### scope and introspection\n",
    "\n",
    "Variables within the function definition are in the \"scope\" of the function, and do not exist outside the function. \n",
    "\n",
    ">what happens in the function stays in the function\n",
    "\n",
    "To return a value, the function definition needs *return*"
   ]
  },
  {
   "cell_type": "code",
   "execution_count": null,
   "metadata": {
    "hidden": true
   },
   "outputs": [],
   "source": [
    "#del(counts)\n",
    "\n",
    "def count_codes(sequence, codes = 'ACGTNXY?'):\n",
    "    '''\n",
    "    Input: a an iterable variable of characters, sequence, and an iterable variable of codes, codes\n",
    "    \n",
    "    Output: a tuple ((c1, n1), (c2, n2), ...) where ni is the number of times ci in codes appears in sequence, sorted\n",
    "    '''\n",
    "    counts=[sequence.count(char) for char in codes]\n",
    "    return dict(zip(codes, counts))\n",
    "\n",
    "count_codes('ACCGN', codes='ACGT')\n",
    "\n",
    "#counts does not exist at this point"
   ]
  },
  {
   "cell_type": "markdown",
   "metadata": {
    "hidden": true
   },
   "source": [
    "To see the long comment, use\n",
    "\n",
    ">function?\n",
    "\n",
    "This is why you should **always** include good long comments in every function you define.\n",
    "\n",
    "To see more information about the function:\n",
    "\n",
    ">function??"
   ]
  },
  {
   "cell_type": "code",
   "execution_count": 27,
   "metadata": {
    "hidden": true
   },
   "outputs": [],
   "source": [
    "count_codes?"
   ]
  },
  {
   "cell_type": "markdown",
   "metadata": {
    "hidden": true
   },
   "source": [
    "### Recursion\n",
    "\n",
    "Functions call call themselves. This is called *recursion*, or *recursive code*. \n",
    "Recursive functions have (at least) two parts,\n",
    "\n",
    "* one part calls the function on a smaller input\n",
    "* one part does not call itself (this is the *base* case*\n",
    "\n",
    "If you get this wrong, your computer will eat itself and implode. \n",
    "Use the *Kernel* function in the menu at the top of your jupyter notebook to kill the kernel if this happens.\n",
    "\n",
    "Here are two examples. The *fibonacci* code is **very** inefficient (meaning you can't run it with very large n). there are cool ways to speed this up. "
   ]
  },
  {
   "cell_type": "code",
   "execution_count": 28,
   "metadata": {
    "hidden": true
   },
   "outputs": [],
   "source": [
    "def fibonacci(n, trace=False):\n",
    "    '''\n",
    "    for integer n, return the nth fibonacci number. \n",
    "    By definition: f(0 = 1, f(1) = 1, f(n) = f(n-1) + f(n-2))\n",
    "    WARNING: this code is VERY inefficient\n",
    "    '''\n",
    "    if trace: print('in fibonacci({})'.format(n))\n",
    "    if n < 2:\n",
    "        return 1\n",
    "    else:\n",
    "        return fibonacci(n-1, trace) + fibonacci(n-2, trace)"
   ]
  },
  {
   "cell_type": "code",
   "execution_count": null,
   "metadata": {
    "hidden": true
   },
   "outputs": [],
   "source": [
    "#fibs = [fibonacci(x) for x in range(6)]\n",
    "#print(fibs, trace=True)\n",
    "\n",
    "fibonacci(5, trace=True)"
   ]
  },
  {
   "cell_type": "code",
   "execution_count": 25,
   "metadata": {
    "hidden": true
   },
   "outputs": [],
   "source": [
    "codons = {\n",
    "        'ATA':'I', 'ATC':'I', 'ATT':'I', 'ATG':'M',\n",
    "        'ACA':'T', 'ACC':'T', 'ACG':'T', 'ACT':'T',\n",
    "        'AAC':'N', 'AAT':'N', 'AAA':'K', 'AAG':'K',\n",
    "        'AGC':'S', 'AGT':'S', 'AGA':'R', 'AGG':'R',\n",
    "        'CTA':'L', 'CTC':'L', 'CTG':'L', 'CTT':'L',\n",
    "        'CCA':'P', 'CCC':'P', 'CCG':'P', 'CCT':'P',\n",
    "        'CAC':'H', 'CAT':'H', 'CAA':'Q', 'CAG':'Q',\n",
    "        'CGA':'R', 'CGC':'R', 'CGG':'R', 'CGT':'R',\n",
    "        'GTA':'V', 'GTC':'V', 'GTG':'V', 'GTT':'V',\n",
    "        'GCA':'A', 'GCC':'A', 'GCG':'A', 'GCT':'A',\n",
    "        'GAC':'D', 'GAT':'D', 'GAA':'E', 'GAG':'E',\n",
    "        'GGA':'G', 'GGC':'G', 'GGG':'G', 'GGT':'G',\n",
    "        'TCA':'S', 'TCC':'S', 'TCG':'S', 'TCT':'S',\n",
    "        'TTC':'F', 'TTT':'F', 'TTA':'L', 'TTG':'L',\n",
    "        'TAC':'Y', 'TAT':'Y', 'TAA':'_', 'TAG':'_',\n",
    "        'TGC':'C', 'TGT':'C', 'TGA':'_', 'TGG':'W',\n",
    "    }"
   ]
  },
  {
   "cell_type": "code",
   "execution_count": 34,
   "metadata": {
    "hidden": true
   },
   "outputs": [],
   "source": [
    "def translate( dna, codon_table=codons):\n",
    "    if len(dna) < 3:\n",
    "        return ''\n",
    "    else:\n",
    "        return codon_table[dna[:3]]+translate(dna[3:], codon_table)"
   ]
  },
  {
   "cell_type": "code",
   "execution_count": 35,
   "metadata": {
    "hidden": true
   },
   "outputs": [
    {
     "data": {
      "text/plain": [
       "'TVF'"
      ]
     },
     "execution_count": 35,
     "metadata": {},
     "output_type": "execute_result"
    }
   ],
   "source": [
    "translate('ACCGTTTTC')"
   ]
  },
  {
   "cell_type": "markdown",
   "metadata": {},
   "source": [
    "## Modules\n",
    "\n",
    "Modules are special purpose collections of code, including functions and objects (with methods).\n",
    "It is more efficient to require the user to include special purpose code than to include in in basic python. \n",
    "Moreover, Python has a large user base, so there are many special purpose modules available.\n",
    "\n",
    "Some particularly useful modules are:\n",
    "* numpy: high performance support for scientific numerical computing (we will cover this)\n",
    "* pandas: support for dataframes, which are commonly used in scientific data analysis (we will cover this)\n",
    "* matplotlib: support for plotting data and showing graphs\n",
    "* pprint: print data objects in a more readable way\n",
    "* sys: gives access to system objects, such as STDIN, STDOUT, the arguments to a function"
   ]
  },
  {
   "cell_type": "markdown",
   "metadata": {},
   "source": [
    "To use a module you need to *import* it.\n",
    "Import creates a new namespace with all the parts of the module in that namespace.\n",
    "\n",
    "A *namespace* is the collection of all names of functions and objects which one's code has access. For example *print()* and *len()* are the names of functions in the default name space, which you get for free.\n",
    "\n",
    "To import a module, use\n",
    "\n",
    ">import module\n",
    "\n",
    "or \n",
    "\n",
    ">import module as mod\n",
    "\n",
    "The first creates a namespace named *module* that contains everything in the module named \"module\"\n",
    "\n",
    "The second puts module's contents into a namespace named *mod*.\n",
    "\n",
    "As with all python objects, you access the contents of the module by using the name of the namespace followed by '.'. \n",
    "You can find all the contents with introspection, and get help with a trailing '?'.\n",
    "\n",
    "For example, *pprint* is a function in the *pprint* module. "
   ]
  },
  {
   "cell_type": "code",
   "execution_count": null,
   "metadata": {},
   "outputs": [],
   "source": [
    "import pprint\n",
    "\n",
    "pprint({'a': 1, 'b':2})\n",
    "#pprint.pprint({'a': 1, 'b':2})\n"
   ]
  },
  {
   "cell_type": "code",
   "execution_count": null,
   "metadata": {},
   "outputs": [],
   "source": [
    "import pprint as pp\n",
    "pp.pprint({'a': 1, 'b':2})"
   ]
  },
  {
   "cell_type": "code",
   "execution_count": null,
   "metadata": {},
   "outputs": [],
   "source": [
    "from pprint import pprint\n",
    "pprint({'a': 1, 'b':2})"
   ]
  },
  {
   "cell_type": "markdown",
   "metadata": {},
   "source": [
    "Modules can contain other modules.\n",
    "Sometimes, with a large module, you only want a particular sub-module.\n",
    "\n",
    "For example, the *numpy* module contains a module named *random*. Rather than import\n",
    "everything in the (very large) numpy module, it is common to just import the *random* module, possibly with a separate namespace for clarity. \n",
    "\n",
    ">from numpy import random as rnd\n"
   ]
  },
  {
   "cell_type": "code",
   "execution_count": null,
   "metadata": {},
   "outputs": [],
   "source": [
    "from numpy import random as rnd\n",
    "# introspect into rnd"
   ]
  },
  {
   "cell_type": "markdown",
   "metadata": {},
   "source": [
    "Also, the *matplotlib* module contains a function *pyplt*, which is often the only function you want"
   ]
  },
  {
   "cell_type": "code",
   "execution_count": null,
   "metadata": {},
   "outputs": [],
   "source": [
    "from matplotlib import pyplot as plt\n",
    "# introspect into plt"
   ]
  },
  {
   "cell_type": "code",
   "execution_count": null,
   "metadata": {},
   "outputs": [],
   "source": [
    "# less trivial example\n",
    "x_values = np.arange(0,1,.01)\n",
    "squares = [x**2 for x in x_values]\n",
    "cubes = [y**3 for y in x_values]\n",
    "\n",
    "plt.title('Cubes versus squares')\n",
    "plt.plot(x_values, squares)\n",
    "plt.plot(x_values, cubes)"
   ]
  },
  {
   "cell_type": "code",
   "execution_count": null,
   "metadata": {},
   "outputs": [],
   "source": []
  }
 ],
 "metadata": {
  "anaconda-cloud": {},
  "kernelspec": {
   "display_name": "Python [default]",
   "language": "python",
   "name": "python3"
  },
  "language_info": {
   "codemirror_mode": {
    "name": "ipython",
    "version": 3
   },
   "file_extension": ".py",
   "mimetype": "text/x-python",
   "name": "python",
   "nbconvert_exporter": "python",
   "pygments_lexer": "ipython3",
   "version": "3.5.4"
  },
  "latex_envs": {
   "bibliofile": "biblio.bib",
   "cite_by": "apalike",
   "current_citInitial": 1,
   "eqLabelWithNumbers": true,
   "eqNumInitial": 0
  }
 },
 "nbformat": 4,
 "nbformat_minor": 2
}
