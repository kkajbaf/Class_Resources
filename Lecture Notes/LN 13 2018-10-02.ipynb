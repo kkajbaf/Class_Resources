{
 "cells": [
  {
   "cell_type": "markdown",
   "metadata": {},
   "source": [
    "### Lecture 13 2018-10-02: functions, modules\n",
    "\n",
    "This worksheet accompanies the lecture notes.\n",
    "\n"
   ]
  },
  {
   "cell_type": "markdown",
   "metadata": {},
   "source": [
    "## Example of Function Definition, Abstraction ##\n",
    "\n",
    "Functions are collections of code that transform input objects into return objects. \n",
    "Functions can return *any* object (lists, tuples, strings, even functions)\n",
    "They *encapsulate* code, so that you can *reuse* code. \n",
    "Object methods are functions that exist inside an object. But functions need not be inside objects.\n",
    "\n",
    "If you find yourself copying and pasting the same code, but with different parameters, consider defining and using a function\n",
    "\n",
    "Use *def* to begin a function definition and *return* to return a value. \n",
    "Remember that indentation defines which code belongs in this definition, so *return* can appear anywhere.\n",
    "\n",
    "To define a function f that takes input p and returns r, where both p and r can be a variable, list, tuple, function, etc., the syntax is:\n",
    "\n",
    "```\n",
    "def f(p):\n",
    "    '''\n",
    "    long comments here to describe f, p, r\n",
    "    optional, but STRONGLY recommended\n",
    "    '''\n",
    "    ...your code here...\n",
    "    return(r)\n",
    "```\n",
    "\n",
    "To use a function f with input parameters p:\n",
    "\n",
    ">f(p)\n"
   ]
  },
  {
   "cell_type": "markdown",
   "metadata": {},
   "source": [
    "suppose we have"
   ]
  },
  {
   "cell_type": "code",
   "execution_count": 35,
   "metadata": {},
   "outputs": [],
   "source": [
    "read_codes = [\"A\",\"C\",\"G\",\"T\",\"N\",\"Y\",\"U\"]\n",
    "\n",
    "nucleotides = read_codes[:4]\n",
    "ambiguity_codes = read_codes[4:]\n",
    "\n",
    "sequence=\"CGCAGCNNYYGCATTUUNAAGCYACTCCGYYCCTGGGGAGTNNNTTGAA\""
   ]
  },
  {
   "cell_type": "markdown",
   "metadata": {},
   "source": [
    "Suppose we want to write a function that takes a nucleotide sequence and a set of character codes for reads, and returns a list with corresponding counts of the number of times each code appears in the sequence.\n",
    "\n",
    "For example, we want code such that \n",
    "\n",
    ">count_codes('ACCGN', 'AGCTNV') returns [1, 1, 2, 0, 1, 0]\n",
    "\n",
    "*Always* use good names for functions and input/output parameters, and include a description of the function in long cmoments just after the definition. \n"
   ]
  },
  {
   "cell_type": "markdown",
   "metadata": {},
   "source": [
    "### Return\n",
    "\n",
    "Return can be formatted with or without parentheses.\n",
    "That is, to return *value* you can use either\n",
    "\n",
    ">return(value)\n",
    "\n",
    "or \n",
    ">return value"
   ]
  },
  {
   "cell_type": "markdown",
   "metadata": {},
   "source": [
    "You can have multiple *return* statements"
   ]
  },
  {
   "cell_type": "code",
   "execution_count": 38,
   "metadata": {},
   "outputs": [],
   "source": [
    "def is_even(n):\n",
    "    if n%2 == 0: return True\n",
    "    else: return False"
   ]
  },
  {
   "cell_type": "code",
   "execution_count": null,
   "metadata": {},
   "outputs": [],
   "source": []
  },
  {
   "cell_type": "markdown",
   "metadata": {},
   "source": [
    "If there is no *return*, the last thing mentioned is the return value. \n",
    "This can be confusing, so always return a value. \n",
    "If you want to not return a value, then \n",
    "\n",
    ">return None"
   ]
  },
  {
   "cell_type": "code",
   "execution_count": 39,
   "metadata": {},
   "outputs": [],
   "source": [
    "def count_codes(sequence, codes):\n",
    "    '''\n",
    "    Input: a string of characters, sequence, and a list of codes, codes\n",
    "    \n",
    "    Output: a list [c1, ... ci, ... cn] where ci is the number of times the ith entry in codes appears in sequence\n",
    "    '''\n",
    "    counts=[]\n",
    "    for next_code in codes:\n",
    "        counts.append( sequence.count(next_code) )\n",
    "    return(counts) "
   ]
  },
  {
   "cell_type": "code",
   "execution_count": 40,
   "metadata": {},
   "outputs": [
    {
     "name": "stdout",
     "output_type": "stream",
     "text": [
      "\n",
      "count_codes(CGCAGCNNYYGCATTUUNAAGCYACTCCGYYCCTGGGGAGTNNNTTGAA, ['A', 'C', 'G', 'T']) returns [8, 10, 11, 7]\n",
      "\n",
      "count_codes( sequence, nucleotides ) returns [8, 10, 11, 7, 6, 5, 2]\n",
      "\n",
      "CGCAGCNNYYGCATTUUNAAGCYACTCCGYYCCTGGGGAGTNNNTTGAA has [8, 10, 11, 7] nucleotides and [6, 5, 2] ambiguity codes, where nucleotides = ['A', 'C', 'G', 'T'] and ambituity codes = ['N', 'Y', 'U']\n"
     ]
    }
   ],
   "source": [
    "def count_codes(sequence, codes):\n",
    "    '''\n",
    "    Input: a string of characters, sequence, and a list of codes, codes\n",
    "    \n",
    "    Output: a list [c1, ... ci, ... cn] where ci is the number of times the ith entry in codes appears in sequence\n",
    "    '''\n",
    "    counts=[]\n",
    "    for next_code in codes:\n",
    "        counts.append( sequence.count(next_code) )\n",
    "    return counts \n",
    "\n",
    "counts = count_codes( sequence, nucleotides )\n",
    "\n",
    "print( '\\ncount_codes({}, {}) returns {}'.format(sequence, nucleotides, counts) )\n",
    "\n",
    "print( '\\ncount_codes( sequence, nucleotides ) returns {}'.format(count_codes( sequence, read_codes)))\n",
    "\n",
    "print( '\\n{0} has {1} nucleotides and {2} ambiguity codes, where nucleotides = {3} and ambituity codes = {4}'.format(\n",
    "    sequence, \n",
    "    count_codes( sequence, nucleotides ), \n",
    "    count_codes( sequence, ambiguity_codes ), \n",
    "    nucleotides, \n",
    "    ambiguity_codes) \n",
    "    )\n"
   ]
  },
  {
   "cell_type": "markdown",
   "metadata": {},
   "source": [
    "### better code\n",
    "\n",
    "Another example, that's a bit more pythonic would use comprehension and return a tuple, so one could look up individual counts more easily."
   ]
  },
  {
   "cell_type": "code",
   "execution_count": 41,
   "metadata": {},
   "outputs": [
    {
     "name": "stdout",
     "output_type": "stream",
     "text": [
      "[('A', 8), ('C', 10), ('G', 11), ('T', 7)]\n"
     ]
    }
   ],
   "source": [
    "def count_codes(sequence, codes):\n",
    "    '''\n",
    "    Input: a an iterable variable of characters, sequence, and an iterable variable of codes, codes\n",
    "    \n",
    "    Output: a tuple ((c1, n1), (c2, n2), ...) where ni is the number of times ci in codes appears in sequence, sorted\n",
    "    '''\n",
    "    counts=[sequence.count(char) for char in codes]\n",
    "    return sorted(tuple(zip(codes, counts)))\n",
    "\n",
    "# example\n",
    "print( count_codes( sequence, nucleotides ) )"
   ]
  },
  {
   "cell_type": "markdown",
   "metadata": {},
   "source": [
    "### reusing the code\n",
    "\n",
    "To get a tab delimited output, which may be easier for humans to read"
   ]
  },
  {
   "cell_type": "code",
   "execution_count": 42,
   "metadata": {},
   "outputs": [
    {
     "name": "stdout",
     "output_type": "stream",
     "text": [
      "A\t8\n",
      "C\t10\n",
      "G\t11\n",
      "T\t7\n"
     ]
    }
   ],
   "source": [
    "for char, count in sorted(count_codes( sequence, nucleotides ) ):\n",
    "    print('{}\\t{}'.format(char,count) )"
   ]
  },
  {
   "cell_type": "markdown",
   "metadata": {},
   "source": [
    "The function allows us to re-use the code with different parameters.\n",
    "\n",
    "Note that we can use lists, strings, or tuples (even dicts!) for either the sequences or the code sets.\n",
    "This is an example of \"hardened\" code, which is forgiving of user input. \n",
    "\n",
    "But this code ignores the occurances of codes in the sequence that don't appear in the code list. \n",
    "For example, in 'ACNTKT' there are two 'T's, but if one uses code set ('A', 'C'), they are just ignored.\n",
    "\n",
    "*Is this the right thing to do?*"
   ]
  },
  {
   "cell_type": "code",
   "execution_count": 43,
   "metadata": {},
   "outputs": [
    {
     "name": "stdout",
     "output_type": "stream",
     "text": [
      "\n",
      "working on sequence ACNTKT and code_set ['A', 'C', 'G', 'T', 'N', 'Y', 'U']\n",
      "A\t1\n",
      "C\t1\n",
      "G\t0\n",
      "N\t1\n",
      "T\t2\n",
      "U\t0\n",
      "Y\t0\n",
      "\n",
      "working on sequence ACNTKT and code_set ACGTN?XYK\n",
      "?\t0\n",
      "A\t1\n",
      "C\t1\n",
      "G\t0\n",
      "K\t1\n",
      "N\t1\n",
      "T\t2\n",
      "X\t0\n",
      "Y\t0\n",
      "\n",
      "working on sequence ACNTKT and code_set ('A', 'C')\n",
      "A\t1\n",
      "C\t1\n",
      "\n",
      "working on sequence ACNTKT and code_set {'C': 'c', '?': '-', 'A': 'a'}\n",
      "?\t0\n",
      "A\t1\n",
      "C\t1\n",
      "\n",
      "working on sequence GN?ZX and code_set ['A', 'C', 'G', 'T', 'N', 'Y', 'U']\n",
      "A\t0\n",
      "C\t0\n",
      "G\t1\n",
      "N\t1\n",
      "T\t0\n",
      "U\t0\n",
      "Y\t0\n",
      "\n",
      "working on sequence GN?ZX and code_set ACGTN?XYK\n",
      "?\t1\n",
      "A\t0\n",
      "C\t0\n",
      "G\t1\n",
      "K\t0\n",
      "N\t1\n",
      "T\t0\n",
      "X\t1\n",
      "Y\t0\n",
      "\n",
      "working on sequence GN?ZX and code_set ('A', 'C')\n",
      "A\t0\n",
      "C\t0\n",
      "\n",
      "working on sequence GN?ZX and code_set {'C': 'c', '?': '-', 'A': 'a'}\n",
      "?\t1\n",
      "A\t0\n",
      "C\t0\n"
     ]
    }
   ],
   "source": [
    "sequences = ['ACNTKT', 'GN?ZX',]\n",
    "code_set = [[\"A\",\"C\",\"G\",\"T\",\"N\",\"Y\",\"U\"], 'ACGTN?XYK', ('A','C'), {'A':'a', 'C': 'c', '?': '-'} ]\n",
    "for next_sequence in sequences:\n",
    "    for next_code_set in code_set:\n",
    "        print('\\nworking on sequence {} and code_set {}'.format(next_sequence, next_code_set))\n",
    "        for char, count in sorted(count_codes( next_sequence, next_code_set) ):\n",
    "            print('{}\\t{}'.format(char,count) )"
   ]
  },
  {
   "cell_type": "markdown",
   "metadata": {},
   "source": [
    "One can even convert this to a dict, so one can return specific counts."
   ]
  },
  {
   "cell_type": "code",
   "execution_count": 44,
   "metadata": {},
   "outputs": [
    {
     "name": "stdout",
     "output_type": "stream",
     "text": [
      "C occurs 2 times in ACGC using codes ACGT?N\n"
     ]
    }
   ],
   "source": [
    "code_count = dict(count_codes( 'ACGC', 'ACGT?N'))\n",
    "\n",
    "print('{} occurs {} times in {} using codes {}'.format('C', code_count['C'], 'ACGC', 'ACGT?N'))"
   ]
  },
  {
   "cell_type": "markdown",
   "metadata": {},
   "source": [
    "### Optional parameter with default values\n",
    "\n",
    "if the parameter is of the form *p=default* then it is optional, and has the value *default* if it is omitted. \n",
    "To use a value other than the default, just include *p=my_value* in the parameter list.\n",
    "\n",
    "optional parameters can be in any order\n",
    "\n",
    "In this example, the sequence parameter is required, and the default ambiguity code list is 'ACGTNXY?'. To count only non-ambiguous characters, override the default with *'ACGT'*."
   ]
  },
  {
   "cell_type": "code",
   "execution_count": 45,
   "metadata": {},
   "outputs": [],
   "source": [
    "def count_codes(sequence, codes = 'ACGTNXY?'):\n",
    "    '''\n",
    "    Input: a an iterable variable of characters, sequence, and an iterable variable of codes, codes\n",
    "    \n",
    "    Output: a tuple ((c1, n1), (c2, n2), ...) where ni is the number of times ci in codes appears in sequence, sorted\n",
    "    '''\n",
    "    counts=[sequence.count(char) for char in codes]\n",
    "    return sorted(tuple(zip(codes, counts)))"
   ]
  },
  {
   "cell_type": "code",
   "execution_count": 46,
   "metadata": {},
   "outputs": [
    {
     "data": {
      "text/plain": [
       "[('?', 0),\n",
       " ('A', 1),\n",
       " ('C', 2),\n",
       " ('G', 1),\n",
       " ('N', 1),\n",
       " ('T', 0),\n",
       " ('X', 0),\n",
       " ('Y', 0)]"
      ]
     },
     "execution_count": 46,
     "metadata": {},
     "output_type": "execute_result"
    }
   ],
   "source": [
    "# use default ambiguity codes\n",
    "count_codes('ACCGN')"
   ]
  },
  {
   "cell_type": "code",
   "execution_count": 47,
   "metadata": {},
   "outputs": [
    {
     "data": {
      "text/plain": [
       "[('A', 1), ('C', 2), ('G', 1), ('T', 0)]"
      ]
     },
     "execution_count": 47,
     "metadata": {},
     "output_type": "execute_result"
    }
   ],
   "source": [
    "# count only non-ambiguous codes\n",
    "count_codes('ACCGN', codes='ACGT')"
   ]
  },
  {
   "cell_type": "markdown",
   "metadata": {},
   "source": [
    "### scope and introspection\n",
    "\n",
    "Variables within the function definition are in the \"scope\" of the function, and do not exist outside the function. \n",
    "\n",
    ">what happens in the function stays in the function\n",
    "\n",
    "To return a value, the function definition needs *return*"
   ]
  },
  {
   "cell_type": "code",
   "execution_count": 48,
   "metadata": {},
   "outputs": [
    {
     "data": {
      "text/plain": [
       "[('A', 1), ('C', 2), ('G', 1), ('T', 0)]"
      ]
     },
     "execution_count": 48,
     "metadata": {},
     "output_type": "execute_result"
    }
   ],
   "source": [
    "#del(counts)\n",
    "\n",
    "def count_codes(sequence, codes = 'ACGTNXY?'):\n",
    "    '''\n",
    "    Input: a an iterable variable of characters, sequence, and an iterable variable of codes, codes\n",
    "    \n",
    "    Output: a tuple ((c1, n1), (c2, n2), ...) where ni is the number of times ci in codes appears in sequence, sorted\n",
    "    '''\n",
    "    counts=[sequence.count(char) for char in codes]\n",
    "    return sorted(tuple(zip(codes, counts)))\n",
    "\n",
    "count_codes('ACCGN', codes='ACGT')\n",
    "\n",
    "#counts does not exist at this point"
   ]
  },
  {
   "cell_type": "markdown",
   "metadata": {},
   "source": [
    "To see the long comment, use\n",
    "\n",
    ">function.?\n",
    "\n",
    "This is why you should **always** include good long comments in every function you define.\n",
    "\n",
    "To see more information about the function:\n",
    "\n",
    ">function.??"
   ]
  },
  {
   "cell_type": "markdown",
   "metadata": {},
   "source": [
    "## Modules\n",
    "\n",
    "Modules are special purpose collections of code, including functions and objects (with methods).\n",
    "It is more efficient to require the user to include special purpose code than to include in in basic python. \n",
    "Moreover, Python has a large user base, so there are many special purpose modules available.\n",
    "\n",
    "Some particularly useful modules are:\n",
    "* numpy: high performance support for scientific numerical computing (we will cover this)\n",
    "* pandas: support for dataframes, which are commonly used in scientific data analysis (we will cover this)\n",
    "* matplotlib: support for plotting data and showing graphs\n",
    "* pprint: print data objects in a more readable way\n",
    "* sys: gives access to system objects, such as STDIN, STDOUT, the arguments to a function"
   ]
  },
  {
   "cell_type": "markdown",
   "metadata": {},
   "source": [
    "To use a module you need to *import* it.\n",
    "Import creates a new namespace with all the parts of the module in that namespace.\n",
    "\n",
    "A *namespace* is the collection of all names of functions and objects which one's code has access. For example *print()* and *len()* are the names of functions in the default name space, which you get for free.\n",
    "\n",
    "To import a module, use\n",
    "\n",
    ">import module\n",
    "\n",
    "or \n",
    "\n",
    ">import module as mod\n",
    "\n",
    "The first creates a namespace named *module* that contains everything in the module named \"module\"\n",
    "\n",
    "The second puts module's contents into a namespace named *mod*.\n",
    "\n",
    "As with all python objects, you access the contents of the module by using the name of the namespace followed by '.'. \n",
    "You can find all the contents with introspection, and get help with a trailing '?'.\n",
    "\n",
    "For example, *pprint* is a function in the *pprint* module. "
   ]
  },
  {
   "cell_type": "code",
   "execution_count": null,
   "metadata": {},
   "outputs": [],
   "source": [
    "import pprint\n",
    "\n",
    "pprint({'a': 1, 'b':2})\n",
    "#pprint.pprint({'a': 1, 'b':2})\n"
   ]
  },
  {
   "cell_type": "code",
   "execution_count": 50,
   "metadata": {},
   "outputs": [
    {
     "name": "stdout",
     "output_type": "stream",
     "text": [
      "{'a': 1, 'b': 2}\n"
     ]
    }
   ],
   "source": [
    "import pprint as pp\n",
    "pp.pprint({'a': 1, 'b':2})"
   ]
  },
  {
   "cell_type": "code",
   "execution_count": 51,
   "metadata": {},
   "outputs": [
    {
     "name": "stdout",
     "output_type": "stream",
     "text": [
      "{'a': 1, 'b': 2}\n"
     ]
    }
   ],
   "source": [
    "from pprint import pprint\n",
    "pprint({'a': 1, 'b':2})"
   ]
  },
  {
   "cell_type": "markdown",
   "metadata": {},
   "source": [
    "Modules can contain other modules.\n",
    "Sometimes, with a large module, you only want a particular sub-module.\n",
    "\n",
    "For example, the *numpy* module contains a module named *random*. Rather than import\n",
    "everything in the (very large) numpy module, it is common to just import the *random* module, possibly with a separate namespace for clarity. \n",
    "\n",
    ">from numpy import random as rnd\n"
   ]
  },
  {
   "cell_type": "code",
   "execution_count": 52,
   "metadata": {},
   "outputs": [],
   "source": [
    "from numpy import random as rnd\n",
    "# introspect into rnd"
   ]
  },
  {
   "cell_type": "markdown",
   "metadata": {},
   "source": [
    "Also, the *matplotlib* module contains a function *pyplt*, which is often the only function you want"
   ]
  },
  {
   "cell_type": "code",
   "execution_count": 53,
   "metadata": {},
   "outputs": [],
   "source": [
    "from matplotlib import pyplot as plt\n",
    "# introspect into plt"
   ]
  },
  {
   "cell_type": "code",
   "execution_count": 69,
   "metadata": {},
   "outputs": [
    {
     "data": {
      "text/plain": [
       "[<matplotlib.lines.Line2D at 0x111c92fd0>]"
      ]
     },
     "execution_count": 69,
     "metadata": {},
     "output_type": "execute_result"
    },
    {
     "data": {
      "image/png": "[encoded data removed]",
      "text/plain": [
       "<Figure size 432x288 with 1 Axes>"
      ]
     },
     "metadata": {},
     "output_type": "display_data"
    }
   ],
   "source": [
    "# less trivial example\n",
    "x_values = np.arange(0,1,.01)\n",
    "squares = [x**2 for x in x_values]\n",
    "cubes = [y**3 for y in x_values]\n",
    "\n",
    "plt.title('Cubes versus squares')\n",
    "plt.plot(x_values, squares)\n",
    "plt.plot(x_values, cubes)"
   ]
  },
  {
   "cell_type": "code",
   "execution_count": null,
   "metadata": {},
   "outputs": [],
   "source": []
  }
 ],
 "metadata": {
  "anaconda-cloud": {},
  "kernelspec": {
   "display_name": "Python [default]",
   "language": "python",
   "name": "python3"
  },
  "language_info": {
   "codemirror_mode": {
    "name": "ipython",
    "version": 3
   },
   "file_extension": ".py",
   "mimetype": "text/x-python",
   "name": "python",
   "nbconvert_exporter": "python",
   "pygments_lexer": "ipython3",
   "version": "3.5.4"
  },
  "latex_envs": {
   "bibliofile": "biblio.bib",
   "cite_by": "apalike",
   "current_citInitial": 1,
   "eqLabelWithNumbers": true,
   "eqNumInitial": 0
  }
 },
 "nbformat": 4,
 "nbformat_minor": 2
}
