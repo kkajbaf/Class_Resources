{
 "cells": [
  {
   "cell_type": "markdown",
   "metadata": {},
   "source": [
    "Plan for today:\n",
    "\n",
    "Basic data structures (3.1): strings, Lists, slices"
   ]
  },
  {
   "cell_type": "markdown",
   "metadata": {},
   "source": [
    "# Compound data structures"
   ]
  },
  {
   "cell_type": "markdown",
   "metadata": {},
   "source": [
    "## Strings (again)\n"
   ]
  },
  {
   "cell_type": "markdown",
   "metadata": {},
   "source": [
    "### Indexing a string\n",
    "\n",
    "A string is a sequential collection (a bunch of characters, all in a row).\n",
    "You can always pull out a particular item in a sequential collection by indexing the object with []\n",
    "\n",
    "For example, suppose\n",
    "\n",
    ">dna = 'CGCAGCTAACGCATTAAGCACTCCGCCTGGGGAGTACGACCGCAAGGTTGAA'\n",
    "\n",
    "* what is the first character in *dna*?\n",
    "* what is dna[2]?\n",
    "\n",
    "You can index from the rear end by using a negative value\n",
    "\n",
    "* what is dna[-1]? dna[-2]?\n",
    "\n",
    "If you do silly indexing, python will complain\n",
    "\n",
    "Try these:\n",
    "```\n",
    "    dna[-10000]\n",
    "    dna[10000]\n",
    "```"
   ]
  },
  {
   "cell_type": "code",
   "execution_count": null,
   "metadata": {},
   "outputs": [],
   "source": []
  },
  {
   "cell_type": "code",
   "execution_count": 4,
   "metadata": {},
   "outputs": [],
   "source": [
    "dna = 'CGCAGCTAACGCATTAAGCACTCCGCCTGGGGAGTACGACCGCAAGGTTGAA'\n"
   ]
  },
  {
   "cell_type": "markdown",
   "metadata": {},
   "source": [
    "### Slicing a string\n",
    "\n",
    "To get a range of characters, between i and j in a string, use the index *string[i:j]*.\n",
    "*string[:x]* means \"start at the beginning and go up to position $x$\n",
    "*string[x:]* means start as position x and go to the end\n",
    "\n",
    "You can also use negative indexes, so that *string[:-3]* for example means \"start at the beginning and go up until the third position from the right\".\n",
    "\n",
    "(note: this will help you with homework 3)\n",
    "\n",
    "Consider\n",
    "\n",
    ">my_name = 'puddentain, ask me again and I\\'ll tell you the same'\n",
    "\n",
    "What do the following return:\n",
    "\n",
    "```\n",
    "    my_name[]\n",
    "    my_name[3]\n",
    "    my_name[10:]\n",
    "    my_name[3:5]\n",
    "    my_name[my_name.find(','):]\n",
    "    my_name[:]\n",
    "    i = 3\n",
    "    j = 5\n",
    "    my_name[i:j]\n",
    "    my_name[i:j+3]\n",
    "    j = j+3\n",
    "    my_name[i:j]\n",
    "    my_name = my_name[my_name.find(','):]\n",
    "```"
   ]
  },
  {
   "cell_type": "markdown",
   "metadata": {},
   "source": [
    "There is a third parameter in string indexing, the *step size*. \n",
    "*str[x,y,z]* takes a slice of the string between indexes x and y, keeping every zth entry.\n",
    "When *z=-x* the indexing moves to the left (toward smaller index)\n",
    "\n",
    "```\n",
    "    my_name[::2]\n",
    "    my_name[::-2]\n",
    "    my_name[::-1]\n",
    "```\n",
    "\n",
    "What does\n",
    "\n",
    ">my_str == my_str[::-1]\n",
    "\n",
    "test for?"
   ]
  },
  {
   "cell_type": "code",
   "execution_count": null,
   "metadata": {},
   "outputs": [],
   "source": []
  },
  {
   "cell_type": "code",
   "execution_count": null,
   "metadata": {},
   "outputs": [],
   "source": [
    "# find the first and last codon in \"dna\" from above\n"
   ]
  },
  {
   "cell_type": "markdown",
   "metadata": {},
   "source": [
    "### Useful String methods\n",
    "\n",
    "We will look at more string methods in more depth later. For now, take a look at the string methods with introspection and get information on them with the interactive help feature in jupyter\n",
    "\n",
    "In particular, pay attention to\n",
    "```\n",
    "    str.count()\n",
    "    str.find()\n",
    "    str.upcase()\n",
    "    str.replace()\n",
    "    str.split() # examples later\n",
    "    str.join()  # examples later\n",
    "```"
   ]
  },
  {
   "cell_type": "code",
   "execution_count": null,
   "metadata": {},
   "outputs": [],
   "source": [
    "# how many \"A's are in \"dna\" above?"
   ]
  },
  {
   "cell_type": "code",
   "execution_count": 6,
   "metadata": {},
   "outputs": [],
   "source": [
    "# What is the index of the second \"A\" in \"dna\"?"
   ]
  },
  {
   "cell_type": "code",
   "execution_count": 9,
   "metadata": {},
   "outputs": [],
   "source": [
    "# change \"dna\" to an rna string (change T to U) in an appropriately named variable"
   ]
  },
  {
   "cell_type": "code",
   "execution_count": null,
   "metadata": {},
   "outputs": [],
   "source": [
    "# what is the reverse complement of the rna string above? Is it a palindrome?"
   ]
  },
  {
   "cell_type": "markdown",
   "metadata": {},
   "source": [
    "### Immutability\n",
    "Python strings are *immutable*, meaning they cannot be changed. \n",
    "To modify a string, you need to make a copy of it and work on the copy, or you need to use the string methods.\n",
    "\n",
    "For example, suppose I want to change 'y range' into 'x range'. What happens here:\n",
    "```\n",
    "my_string = 'y range'\n",
    "my_string[0] = 'x'\n",
    "```\n",
    "\n",
    "You want something like\n",
    "\n",
    "> 'x' + my_string[1:]\n",
    "\n",
    "or \n",
    "\n",
    "> my_string.replace('y','x')"
   ]
  },
  {
   "cell_type": "code",
   "execution_count": 10,
   "metadata": {},
   "outputs": [],
   "source": [
    "# change my_string from 'y range' to 'x range'.\n",
    "# YOUR CODE HERE"
   ]
  },
  {
   "cell_type": "markdown",
   "metadata": {},
   "source": [
    "## Lists\n",
    "\n",
    "* empty list\n",
    "* entries can be *anything* (including other lists)\n",
    "\t* there are no matrixes or tensors, just lists of lists\n"
   ]
  },
  {
   "cell_type": "markdown",
   "metadata": {},
   "source": [
    "### Useful methods\n",
    "* append()\n",
    "* pop()\n",
    "* \\+ (catenation)\n",
    "* sort()\n",
    "\n",
    "list() can be useful (e.g. list('acgnntt'))\n",
    "\n",
    "for *member* in *list*\n"
   ]
  },
  {
   "cell_type": "markdown",
   "metadata": {},
   "source": [
    "### Indexing Slicing\n",
    "* describe\n",
    "\n",
    "use as examples:  nucleotides = [\"A\",\"C\",\"G\",\"T\",\"N\",\"Y\",\"U\"]\n",
    "\n",
    ">goodReads=nucleotides[0:4] or goodReads=nucleotides[:4]\n",
    "\n",
    ">ambiguousReads=nucleotides[4:] or ambiguousReads=nucleotides[4:8]\n",
    "\n",
    "* negative indexes\n",
    "\n",
    "> nucleotides[-2]\n",
    "> nucleotides[:-2]\n",
    "\n",
    "* stepsize\n",
    "\n",
    ">nucleotides[::2]\n",
    ">nucleotides[::-1] # cute\n",
    "\n",
    "* biggest slice is a **copy**. very common construction\n",
    "\n",
    ">nucsCopy=nucleotides[:]\n"
   ]
  },
  {
   "cell_type": "markdown",
   "metadata": {},
   "source": [
    "### Compare to strings\n",
    "\n",
    "```\n",
    "DNA_string = 'AAUUUGYCCAANN'\n",
    "DNA_list = list(DNA_string) # casting, or coercion\n",
    "```\n",
    "\n",
    "Lists are mutable (unlike strings)\n",
    "\n",
    "```\n",
    "DNA_list[1] = 'X'\n",
    "DNA_list\n",
    "DNA_string[1] = 'X'\n",
    "```\n",
    "\n",
    "(for fun, what happens with *str(DNA_list)*?)\n"
   ]
  },
  {
   "cell_type": "markdown",
   "metadata": {},
   "source": [
    "#### Useful methods converting strings and lists\n"
   ]
  },
  {
   "cell_type": "markdown",
   "metadata": {},
   "source": [
    "##### *str.split()* returns a list of subsequences of the string split at 'x' (default, white space)\n",
    "\n",
    "for example, given the folloiwing fasta sequence description line\n",
    "\n",
    ">header = '>MISEQ:7:000000000-AMAKG:1:1101:16998:1719 1:N:0:PE716:ST6_21 TTGACCCT|0|TAGACCTA|0 ST6_21_F|0|23|'\n"
   ]
  },
  {
   "cell_type": "code",
   "execution_count": null,
   "metadata": {},
   "outputs": [],
   "source": [
    "# get the fields (split at ':')\n",
    "sequence_header_fields = \n",
    "\n",
    "# get forward and reverse primers"
   ]
  },
  {
   "cell_type": "markdown",
   "metadata": {},
   "source": [
    "##### *str.join(list)* returns a string with all the strings in list joined by string str\n",
    "\n",
    "for example, suppose one has the following lists:\n",
    "\n",
    "```\n",
    "microbiome_headers = ['ID', 'patientID', 'Week', 'Day', 'Lactobacillus_crispatus', 'Lactobacillus_iners']\n",
    "microbiome_abundances = [\n",
    "     ['w1.1', 'AYAC01', 1, 1, 4478, 12],\n",
    "     ['w1.2', 'AYAC01', 1, 2, 3548, 8],\n",
    "     ['w2.1', 'AYAC02', 1, 1, 6147, 422],\n",
    "     ['w2.64', 'AYAC02', 10, 1, 3352, 1022],\n",
    "     ['w3.65', 'AYAC03', 10, 2, 3346, 1974],\n",
    "]\n",
    "```\n",
    "\n",
    "Warning: what types of elements are in *microbiome_abundances*?\n",
    "\n",
    "Discuss syntax\n",
    "\n",
    "* object.mtd(object) syntax\n",
    "* where to put \"join\" method? Lists or strings??"
   ]
  },
  {
   "cell_type": "code",
   "execution_count": null,
   "metadata": {},
   "outputs": [],
   "source": [
    "# print tab-delimited headers, and tab-delimited values of first sample\n",
    "microbiome_headers = ['ID', 'patientID', 'Week', 'Day', 'Lactobacillus_crispatus', 'Lactobacillus_iners']\n",
    "microbiome_abundances = [\n",
    "     ['w1.1', 'AYAC01', 1, 1, 4478, 12],\n",
    "     ['w1.2', 'AYAC01', 1, 2, 3548, 8],\n",
    "     ['w2.1', 'AYAC02', 1, 1, 6147, 422],\n",
    "     ['w2.64', 'AYAC02', 10, 1, 3352, 1022],\n",
    "     ['w3.65', 'AYAC03', 10, 2, 3346, 1974],\n",
    "]\n",
    "\n",
    "print( ... microbiome_headers ...)   # fix this\n",
    "first_sample = [str(x) for x in microbiome_abundances[0]]  # We will talk about this magic later\n",
    "\n",
    "print( ... first_sample)  # fix this"
   ]
  },
  {
   "cell_type": "markdown",
   "metadata": {},
   "source": [
    "## control flow\n",
    "\t* boolean comparisons: ==, <, <=, ...\n",
    "\t* if/else\n",
    "\t* for\n",
    "    * while"
   ]
  },
  {
   "cell_type": "markdown",
   "metadata": {},
   "source": [
    "### for and while loops\n",
    "Assume\n",
    "\n",
    ">dna = 'CGCAGCTAACGCATTAAGCACTCCGCCTGGGGAGTACGACCGCAAGGTTGAA'\n",
    "\n",
    "\n",
    "While loops repeat for as long as the condition tested after *while* is true\n",
    "\n",
    "```\n",
    "    next_nucleotide = ''\n",
    "    while (next_nucleotide != 'A') & (len(dna)>0):\n",
    "        next_nucleotide = dna[0]\n",
    "        dna = dna[1:]\n",
    "``` \n",
    "\n",
    "For loops iterate over values in the associated *iterator* (a function that returns the next item in a sequence, but only when requested).\n",
    "These are *very common* in python.\n",
    "\n",
    "```\n",
    "    next_index = 0\n",
    "    for next_nucleotide in dna:\n",
    "        if next_nucleotide != 'A':\n",
    "            next_index = next_index + 1\n",
    "    dna = dna[next_index:]\n",
    "```\n",
    "\n",
    "Show \n",
    "```\n",
    "    range(10)\n",
    "    (type(range(10))\n",
    "    list(range(10))\n",
    "    print(range(10))\n",
    "```"
   ]
  },
  {
   "cell_type": "code",
   "execution_count": null,
   "metadata": {},
   "outputs": [],
   "source": []
  },
  {
   "cell_type": "markdown",
   "metadata": {},
   "source": [
    "### if/then/else\n",
    "\n",
    ">dna = 'CGCAGCTAACGCATTAAGCACTCCGCCTGGGGAGTACGACCGCAAGGTTGAA'\n",
    "\n",
    "Chooses which block to execute based on a boolean test.\n",
    "\n",
    "```\n",
    "   counts = [0,0,0,0]\n",
    "   for next_nucleotide in dna:\n",
    "       if next_nucleotide == 'A':\n",
    "           counts[0] = counts[0] + 1\n",
    "       elif next_nucleotide == 'C':\n",
    "           counts[1] = counts[1] + 1\n",
    "       elif next_nucleotide == 'G':\n",
    "           counts[2] = counts[2] + 1\n",
    "       elif next_nucleotide == 'T':\n",
    "           counts[3] = counts[3] + 1\n",
    "       \n",
    "   print('counts of A, G, C, T: ', counts)\n",
    "```\n",
    "\n",
    "Or, more obtusely:\n",
    "\n",
    "```\n",
    "   counts = [0,0,0,0]\n",
    "   for next_nucleotide in dna:\n",
    "       if next_nucleotide == 'A':\n",
    "           counts[0] = counts[0] + 1\n",
    "       else:\n",
    "           if next_nucleotide == 'C':\n",
    "               counts[1] = counts[1] + 1\n",
    "           else:\n",
    "               if next_nucleotide == 'G':\n",
    "                   counts[2] = counts[2] + 1\n",
    "               else: \n",
    "                   if next_nucleotide == 'T':\n",
    "                       counts[3] = counts[3] + 1\n",
    "           \n",
    "   print('counts of A, G, C, T: ', counts)\n",
    "```\n",
    "\n",
    "Or, as if you were a Fortran coder rather than a python coder (example shown only to show *range()*\n",
    "\n",
    "```\n",
    "   counts = [0,0,0,0]\n",
    "   i=0\n",
    "   for i in range(len(dna)):\n",
    "       if dna[i] == 'A':\n",
    "           counts[0] = counts[0] + 1\n",
    "       elif dna[i] == 'C':\n",
    "           counts[1] = counts[1] + 1\n",
    "       elif dna[i] == 'G':\n",
    "           counts[2] = counts[2] + 1\n",
    "       elif dna[i] == 'T':\n",
    "           counts[3] = counts[3] + 1\n",
    "       \n",
    "   print('counts of A, G, C, T: ', counts)\n",
    "```"
   ]
  },
  {
   "cell_type": "code",
   "execution_count": null,
   "metadata": {},
   "outputs": [],
   "source": []
  }
 ],
 "metadata": {
  "anaconda-cloud": {},
  "kernelspec": {
   "display_name": "Python [default]",
   "language": "python",
   "name": "python3"
  },
  "language_info": {
   "codemirror_mode": {
    "name": "ipython",
    "version": 3
   },
   "file_extension": ".py",
   "mimetype": "text/x-python",
   "name": "python",
   "nbconvert_exporter": "python",
   "pygments_lexer": "ipython3",
   "version": "3.5.5"
  },
  "latex_envs": {
   "bibliofile": "biblio.bib",
   "cite_by": "apalike",
   "current_citInitial": 1,
   "eqLabelWithNumbers": true,
   "eqNumInitial": 0
  }
 },
 "nbformat": 4,
 "nbformat_minor": 2
}
