{
 "cells": [
  {
   "cell_type": "markdown",
   "metadata": {},
   "source": [
    "Plan for today:\n",
    "\n",
    "Basic data structures (3.1): strings, slices"
   ]
  },
  {
   "cell_type": "markdown",
   "metadata": {},
   "source": [
    "# Compound data structures"
   ]
  },
  {
   "cell_type": "markdown",
   "metadata": {},
   "source": [
    "## Strings (again)\n"
   ]
  },
  {
   "cell_type": "markdown",
   "metadata": {},
   "source": [
    "### Indexing a string\n",
    "\n",
    "A string is a sequential collection (a bunch of characters, all in a row).\n",
    "You can always pull out a particular item in a sequential collection by indexing the object with []\n",
    "\n",
    "For example, suppose\n",
    "\n",
    ">dna = 'CGCAGCTAACGCATTAAGCACTCCGCCTGGGGAGTACGACCGCAAGGTTGAA'\n",
    "\n",
    "* what is the first character in *dna*?\n",
    "* what is dna[2]?\n",
    "\n",
    "You can index from the rear end by using a negative value\n",
    "\n",
    "* what is dna[-1]? dna[-2]?\n",
    "\n",
    "If you do silly indexing, python will complain\n",
    "\n",
    "Try these:\n",
    "```\n",
    "    dna[-10000]\n",
    "    dna[10000]\n",
    "```"
   ]
  },
  {
   "cell_type": "code",
   "execution_count": null,
   "metadata": {},
   "outputs": [],
   "source": []
  },
  {
   "cell_type": "code",
   "execution_count": 4,
   "metadata": {},
   "outputs": [],
   "source": [
    "dna = 'CGCAGCTAACGCATTAAGCACTCCGCCTGGGGAGTACGACCGCAAGGTTGAA'\n"
   ]
  },
  {
   "cell_type": "markdown",
   "metadata": {},
   "source": [
    "### Slicing a string\n",
    "\n",
    "To get a range of characters, between i and j in a string, use the index *string[i:j]*.\n",
    "*string[:x]* means \"start at the beginning and go up to position $x$\n",
    "*string[x:]* means start as position x and go to the end\n",
    "\n",
    "You can also use negative indexes, so that *string[:-3]* for example means \"start at the beginning and go up until the third position from the right\".\n",
    "\n",
    "(note: this will help you with homework 3)\n",
    "\n",
    "Consider\n",
    "\n",
    ">my_name = 'puddentain, ask me again and I\\'ll tell you the same'\n",
    "\n",
    "What do the following return:\n",
    "\n",
    "```\n",
    "    my_name[]\n",
    "    my_name[3]\n",
    "    my_name[10:]\n",
    "    my_name[3:5]\n",
    "    my_name[my_name.find(','):]\n",
    "    my_name[:]\n",
    "    i = 3\n",
    "    j = 5\n",
    "    my_name[i:j]\n",
    "    my_name[i:j+3]\n",
    "    j = j+3\n",
    "    my_name[i:j]\n",
    "    my_name = my_name[my_name.find(','):]\n",
    "```"
   ]
  },
  {
   "cell_type": "markdown",
   "metadata": {},
   "source": [
    "There is a third parameter in string indexing, the *step size*. \n",
    "*str[x,y,z]* takes a slice of the string between indexes x and y, keeping every zth entry.\n",
    "When *z=-x* the indexing moves to the left (toward smaller index)\n",
    "\n",
    "```\n",
    "    my_name[::2]\n",
    "    my_name[::-2]\n",
    "    my_name[::-1]\n",
    "```\n",
    "\n",
    "What does\n",
    "\n",
    ">my_str == my_str[::-1]\n",
    "\n",
    "test for?"
   ]
  },
  {
   "cell_type": "code",
   "execution_count": null,
   "metadata": {},
   "outputs": [],
   "source": []
  },
  {
   "cell_type": "code",
   "execution_count": null,
   "metadata": {},
   "outputs": [],
   "source": [
    "# find the first and last codon in \"dna\" from above\n"
   ]
  },
  {
   "cell_type": "markdown",
   "metadata": {},
   "source": [
    "### Useful String methods\n",
    "\n",
    "We will look at more string methods in more depth later. For now, take a look at the string methods with introspection and get information on them with the interactive help feature in jupyter\n",
    "\n",
    "In particular, pay attention to\n",
    "```\n",
    "    str.count()\n",
    "    str.find()\n",
    "    str.upcase()\n",
    "    str.replace()\n",
    "    str.split() # examples later\n",
    "    str.join()  # examples later\n",
    "```"
   ]
  },
  {
   "cell_type": "code",
   "execution_count": null,
   "metadata": {},
   "outputs": [],
   "source": [
    "# how many \"A's are in \"dna\" above?"
   ]
  },
  {
   "cell_type": "code",
   "execution_count": 6,
   "metadata": {},
   "outputs": [],
   "source": [
    "# What is the index of the second \"A\" in \"dna\"?"
   ]
  },
  {
   "cell_type": "code",
   "execution_count": 9,
   "metadata": {},
   "outputs": [],
   "source": [
    "# change \"dna\" to an rna string (change T to U) in an appropriately named variable"
   ]
  },
  {
   "cell_type": "code",
   "execution_count": null,
   "metadata": {},
   "outputs": [],
   "source": [
    "# what is the reverse complement of the rna string above? Is it a palindrome?"
   ]
  }
 ],
 "metadata": {
  "anaconda-cloud": {},
  "kernelspec": {
   "display_name": "Python [default]",
   "language": "python",
   "name": "python3"
  },
  "language_info": {
   "codemirror_mode": {
    "name": "ipython",
    "version": 3
   },
   "file_extension": ".py",
   "mimetype": "text/x-python",
   "name": "python",
   "nbconvert_exporter": "python",
   "pygments_lexer": "ipython3",
   "version": "3.5.5"
  },
  "latex_envs": {
   "bibliofile": "biblio.bib",
   "cite_by": "apalike",
   "current_citInitial": 1,
   "eqLabelWithNumbers": true,
   "eqNumInitial": 0
  }
 },
 "nbformat": 4,
 "nbformat_minor": 2
}
