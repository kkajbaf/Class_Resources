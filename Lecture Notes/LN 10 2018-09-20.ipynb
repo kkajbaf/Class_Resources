{
 "cells": [
  {
   "cell_type": "markdown",
   "metadata": {},
   "source": [
    "Plan for today:\n",
    "\n",
    "Basic data structures (3.1): strings, Lists, slices"
   ]
  },
  {
   "cell_type": "markdown",
   "metadata": {},
   "source": [
    "# Compound data structures"
   ]
  },
  {
   "cell_type": "markdown",
   "metadata": {},
   "source": [
    "## Lists\n",
    "\n",
    "* empty list\n",
    "* entries can be *anything* (including other lists)\n",
    "\t* there are no matrixes or tensors, just lists of lists\n"
   ]
  },
  {
   "cell_type": "markdown",
   "metadata": {},
   "source": [
    "### Useful methods\n",
    "* append()\n",
    "* pop()\n",
    "* \\+ (catenation)\n",
    "* sort()\n",
    "\n",
    "list() can be useful (e.g. list('acgnntt'))\n",
    "\n",
    "for *member* in *list*\n",
    "\n",
    "use as examples:  nucleotides = [\"A\",\"C\",\"G\",\"T\",\"N\",\"Y\",\"U\"]"
   ]
  },
  {
   "cell_type": "markdown",
   "metadata": {},
   "source": [
    "### Indexing Slicing\n",
    "* describe\n",
    "\n",
    "\n",
    ">goodReads=nucleotides[0:4] or goodReads=nucleotides[:4]\n",
    "\n",
    ">ambiguousReads=nucleotides[4:] or ambiguousReads=nucleotides[4:8]\n",
    "\n",
    "* negative indexes\n",
    "\n",
    "> nucleotides[-2]\n",
    "\n",
    "> nucleotides[:-2]\n",
    "\n",
    "* stepsize\n",
    "\n",
    ">nucleotides[::2]\n",
    "\n",
    ">nucleotides[::-1] # cute\n",
    "\n",
    "* biggest slice is a **copy**. very common construction\n",
    "\n",
    ">nucsCopy=nucleotides[:]\n"
   ]
  },
  {
   "cell_type": "markdown",
   "metadata": {},
   "source": [
    "### More complicated examples\n",
    "\n",
    "```\n",
    "directory = [ ['james', '885-7062', ['foster', 'uidaho', 'edu'], 59],\n",
    " ['martha', '555-7062', ['marthabfoster', 'uidaho', 'edu'], 57],\n",
    " ['who', '555-0000', ['the_doctor', 'universe', 'net'], 1000000]\n",
    " ]\n",
    "```"
   ]
  },
  {
   "cell_type": "code",
   "execution_count": 45,
   "metadata": {},
   "outputs": [
    {
     "data": {
      "text/plain": [
       "[['james', '885-7062', ['foster', 'uidaho', 'edu'], 59],\n",
       " ['martha', '555-7062', ['marthabfoster', 'uidaho', 'edu'], 57],\n",
       " ['who', '555-0000', ['the_doctor', 'universe', 'net'], 1000000]]"
      ]
     },
     "execution_count": 45,
     "metadata": {},
     "output_type": "execute_result"
    }
   ],
   "source": [
    "directory = [ ['james', '885-7062', ['foster', 'uidaho', 'edu'], 59],\n",
    " ['martha', '555-7062', ['marthabfoster', 'uidaho', 'edu'], 57],\n",
    " ['who', '555-0000', ['the_doctor', 'universe', 'net'], 1000000]\n",
    " ]\n",
    "\n",
    "directory\n",
    "\n",
    "#directory[1]\n",
    "\n",
    "#directory[2]\n",
    "\n",
    "#directory[2][1]"
   ]
  },
  {
   "cell_type": "markdown",
   "metadata": {},
   "source": [
    "**NOTE**: there is **no** matrix or tensor data type. You implement that as a list of lists.\n",
    "\n",
    "*numpy* package provides matrix/tensor functionality (we will go into depth)\n",
    "\n",
    "*pandas* package provides dataframe functionality\n",
    "\n",
    "For example, to get the matrix\n",
    "\n",
    "$$\n",
    "\\begin{vmatrix}\n",
    "1 & 2 & 3 \\\\\n",
    "4 & 5 & 6 \\\\\n",
    "7 & 8 & 9 \\\\\n",
    "\\end{vmatrix}\n",
    "$$\n",
    "\n",
    "You would have\n",
    "\n",
    ">matrix = [ [1,2,3], [4,5,6], [7,8,9] ]\n",
    "\n",
    "\n",
    "and you would refer to the 5 as\n",
    "\n",
    ">matrix[1][1]\n"
   ]
  },
  {
   "cell_type": "code",
   "execution_count": 48,
   "metadata": {},
   "outputs": [
    {
     "data": {
      "text/plain": [
       "5"
      ]
     },
     "execution_count": 48,
     "metadata": {},
     "output_type": "execute_result"
    }
   ],
   "source": [
    "matrix = [ [1,2,3], [4,5,6], [7,8,9] ]\n",
    "matrix[1][1]"
   ]
  },
  {
   "cell_type": "markdown",
   "metadata": {},
   "source": [
    "### Lists are objects: watch out for aliases!\n",
    "\n",
    "Suppose we have two lists\n",
    "\n",
    "```\n",
    "    nucleotides = [\"A\",\"C\",\"G\",\"T\",\"N\",\"Y\",\"U\"]\n",
    "    n=nucleotides\n",
    "```\n",
    "\n",
    "*n* and *nucleotides* refer to the **same object**.\n",
    "*n* is **not** a new object with the same value as *nucleotides* \n",
    "\n",
    "```\n",
    "\n",
    "```"
   ]
  },
  {
   "cell_type": "code",
   "execution_count": 49,
   "metadata": {},
   "outputs": [
    {
     "name": "stdout",
     "output_type": "stream",
     "text": [
      "n:  ['A', 'C', 'G', 'T', 'N', 'Y', 'U']\n",
      "nucleotides:  ['A', 'C', 'G', 'T', 'N', 'Y', 'U']\n",
      "n:  ['X', 'C', 'G', 'T', 'N', 'Y', 'U', '__']\n",
      "nucleotides:  ['X', 'C', 'G', 'T', 'N', 'Y', 'U', '__']\n"
     ]
    },
    {
     "data": {
      "text/plain": [
       "True"
      ]
     },
     "execution_count": 49,
     "metadata": {},
     "output_type": "execute_result"
    }
   ],
   "source": [
    "nucleotides = [\"A\",\"C\",\"G\",\"T\",\"N\",\"Y\",\"U\"]\n",
    "n=nucleotides\n",
    "\n",
    "print('n: ', n)\n",
    "print('nucleotides: ',nucleotides)\n",
    "\n",
    "n[0]='X'\n",
    "n.append('__')\n",
    "\n",
    "print('n: ', n)\n",
    "print('nucleotides: ',nucleotides) #<<== changing n changed nucleotides because they are the same object!\n",
    "\n",
    "n is nucleotides"
   ]
  },
  {
   "cell_type": "markdown",
   "metadata": {},
   "source": [
    "### Compare to strings\n",
    "\n",
    "Both are sequences of things. \n",
    "Lists are sequences of arbitray things, strings are sequences of characters.\n",
    "\n",
    "```\n",
    "DNA_string = 'AAUUUGYCCAANN'\n",
    "DNA_list = list(DNA_string) # casting, or coercion\n",
    "```\n",
    "\n",
    "Lists are mutable (unlike strings)\n",
    "\n",
    "```\n",
    "DNA_list[1] = 'X'\n",
    "DNA_list\n",
    "DNA_string[1] = 'X'\n",
    "```\n",
    "\n",
    "(for fun, what happens with *str(DNA_list)*?)\n"
   ]
  },
  {
   "cell_type": "markdown",
   "metadata": {},
   "source": [
    "#### Useful methods converting strings and lists\n"
   ]
  },
  {
   "cell_type": "markdown",
   "metadata": {},
   "source": [
    "##### *str.split()* returns a list of subsequences of the string split at 'x' (default, white space)\n",
    "\n",
    "for example, given the folloiwing fasta sequence description line\n",
    "\n",
    ">header = '>MISEQ:7:000000000-AMAKG:1:1101:16998:1719 1:N:0:PE716:ST6_21 TTGACCCT|0|TAGACCTA|0 ST6_21_F|0|23|'\n"
   ]
  },
  {
   "cell_type": "code",
   "execution_count": 46,
   "metadata": {},
   "outputs": [
    {
     "data": {
      "text/plain": [
       "[[['MISEQ', '7', '000000000-AMAKG', '1', '1101', '16998', '1719'],\n",
       "  ['1', 'N', '0', 'PE716', 'ST6_21'],\n",
       "  ['TTGACCCT', '0', 'TAGACCTA', '0'],\n",
       "  ['ST6_21_F', '0', '23', '']],\n",
       " ['CCTCTTCCCCAGCCTCTCCACACA']]"
      ]
     },
     "execution_count": 46,
     "metadata": {},
     "output_type": "execute_result"
    }
   ],
   "source": [
    "header_info = '>MISEQ:7:000000000-AMAKG:1:1101:16998:1719 1:N:0:PE716:ST6_21 TTGACCCT|0|TAGACCTA|0 ST6_21_F|0|23|'\n",
    "\n",
    "header = header_info[1:].split(' ')\n",
    "\n",
    "header[0] = header[0].split(':')\n",
    "header[1] = header[1].split(':')\n",
    "\n",
    "header[-1] = header[-1].split('|')\n",
    "header[-2] = header[-2].split('|')\n",
    "\n",
    "header = [header]\n",
    "header.append(['CCTCTTCCCCAGCCTCTCCACACA'])\n",
    "\n",
    "header"
   ]
  },
  {
   "cell_type": "code",
   "execution_count": 50,
   "metadata": {},
   "outputs": [
    {
     "data": {
      "text/plain": [
       "['TTGACCCT', 'TAGACCTA']"
      ]
     },
     "execution_count": 50,
     "metadata": {},
     "output_type": "execute_result"
    }
   ],
   "source": [
    "primers=[header[-2][-2][0], header[-2][-2][2]]\n",
    "primers"
   ]
  },
  {
   "cell_type": "markdown",
   "metadata": {},
   "source": [
    "##### *str.join(list)* returns a string with all the strings in list joined by string str\n",
    "\n",
    "for example, suppose one has the following lists:\n",
    "\n",
    "```\n",
    "microbiome_headers = ['ID', 'patientID', 'Week', 'Day', 'Lactobacillus_crispatus', 'Lactobacillus_iners']\n",
    "microbiome_abundances = [\n",
    "     ['w1.1', 'AYAC01', 1, 1, 4478, 12],\n",
    "     ['w1.2', 'AYAC01', 1, 2, 3548, 8],\n",
    "     ['w2.1', 'AYAC02', 1, 1, 6147, 422],\n",
    "     ['w2.64', 'AYAC02', 10, 1, 3352, 1022],\n",
    "     ['w3.65', 'AYAC03', 10, 2, 3346, 1974],\n",
    "]\n",
    "```\n",
    "\n",
    "Warning: what types of elements are in *microbiome_abundances*?\n",
    "\n",
    "Discuss syntax\n",
    "\n",
    "* object.mtd(object) syntax\n",
    "* where to put \"join\" method? Lists or strings??"
   ]
  },
  {
   "cell_type": "code",
   "execution_count": null,
   "metadata": {},
   "outputs": [],
   "source": [
    "# print tab-delimited headers, and tab-delimited values of first sample\n",
    "microbiome_headers = ['ID', 'patientID', 'Week', 'Day', 'Lactobacillus_crispatus', 'Lactobacillus_iners']\n",
    "microbiome_abundances = [\n",
    "     ['w1.1', 'AYAC01', 1, 1, 4478, 12],\n",
    "     ['w1.2', 'AYAC01', 1, 2, 3548, 8],\n",
    "     ['w2.1', 'AYAC02', 1, 1, 6147, 422],\n",
    "     ['w2.64', 'AYAC02', 10, 1, 3352, 1022],\n",
    "     ['w3.65', 'AYAC03', 10, 2, 3346, 1974],\n",
    "]\n",
    "\n",
    "print( ... microbiome_headers ...)   # fix this\n",
    "first_sample = [str(x) for x in microbiome_abundances[0]]  # We will talk about this magic later\n",
    "\n",
    "print( ... first_sample)  # fix this"
   ]
  },
  {
   "cell_type": "markdown",
   "metadata": {},
   "source": [
    "## control flow\n",
    "\t* boolean comparisons: ==, <, <=, ...\n",
    "\t* if/else\n",
    "\t* for\n",
    "    * while"
   ]
  },
  {
   "cell_type": "markdown",
   "metadata": {},
   "source": [
    "### if/then/else\n",
    "\n",
    ">dna = 'CGCAGCTAACGCATTAAGCACTCCGCCTGGGGAGTACGACCGCAAGGTTGAA'\n",
    "\n",
    "Chooses which block to execute based on a boolean test.\n",
    "\n",
    "```\n",
    "   counts = [0,0,0,0]\n",
    "   for next_nucleotide in dna:\n",
    "       if next_nucleotide == 'A':\n",
    "           counts[0] = counts[0] + 1\n",
    "       elif next_nucleotide == 'C':\n",
    "           counts[1] = counts[1] + 1\n",
    "       elif next_nucleotide == 'G':\n",
    "           counts[2] = counts[2] + 1\n",
    "       elif next_nucleotide == 'T':\n",
    "           counts[3] = counts[3] + 1\n",
    "       \n",
    "   print('counts of A, G, C, T: ', counts)\n",
    "```\n",
    "\n",
    "Or, more obtusely:\n",
    "\n",
    "```\n",
    "   counts = [0,0,0,0]\n",
    "   for next_nucleotide in dna:\n",
    "       if next_nucleotide == 'A':\n",
    "           counts[0] = counts[0] + 1\n",
    "       else:\n",
    "           if next_nucleotide == 'C':\n",
    "               counts[1] = counts[1] + 1\n",
    "           else:\n",
    "               if next_nucleotide == 'G':\n",
    "                   counts[2] = counts[2] + 1\n",
    "               else: \n",
    "                   if next_nucleotide == 'T':\n",
    "                       counts[3] = counts[3] + 1\n",
    "           \n",
    "   print('counts of A, G, C, T: ', counts)\n",
    "```\n",
    "\n",
    "Or, as if you were a Fortran coder rather than a python coder (example shown only to show *range()*\n",
    "\n",
    "```\n",
    "   counts = [0,0,0,0]\n",
    "   i=0\n",
    "   for i in range(len(dna)):\n",
    "       if dna[i] == 'A':\n",
    "           counts[0] = counts[0] + 1\n",
    "       elif dna[i] == 'C':\n",
    "           counts[1] = counts[1] + 1\n",
    "       elif dna[i] == 'G':\n",
    "           counts[2] = counts[2] + 1\n",
    "       elif dna[i] == 'T':\n",
    "           counts[3] = counts[3] + 1\n",
    "       \n",
    "   print('counts of A, G, C, T: ', counts)\n",
    "```"
   ]
  },
  {
   "cell_type": "markdown",
   "metadata": {},
   "source": [
    "### for and while loops\n",
    "Assume\n",
    "\n",
    "```\n",
    "microbiome_abundances = [\n",
    "     ['w1.1', 'AYAC01', 1, 1, 4478, 12],\n",
    "     ['w1.2', 'AYAC01', 1, 2, 3548, 8],\n",
    "     ['w2.1', 'AYAC02', 1, 1, 6147, 422],\n",
    "     ['w2.64', 'AYAC02', 10, 1, 3352, 1022],\n",
    "     ['w3.65', 'AYAC03', 10, 2, 3346, 1974],\n",
    "]\n",
    "```\n",
    "\n",
    "While loops repeat for as long as the condition tested after *while* is true\n",
    "\n",
    "*continue* jumps to next iteration, *break* breaks out of a loop\n",
    "\n",
    "```\n",
    "    # print entries for patient 'w.2'\n",
    "\n",
    "    next_element = 0\n",
    "    while next_element < len(microbiome_abundances):\n",
    "        next_sample = microbiome_abundances[next_element][0]\n",
    "        if next_sample[:2] == 'w2':\n",
    "            print(microbiome_abundances[next_element])\n",
    "        next_element = next_element + 1\n",
    "\n",
    "``` \n",
    "\n",
    "For loops iterate over values in the associated *iterator* (a function that returns the next item in a sequence, but only when requested).\n",
    "These are *very common* in python.\n",
    "\n",
    "```\n",
    "    # How many bacteria were present?\n",
    "    totals = 0\n",
    "    for next_sample in microbiome_abundances:\n",
    "        totals = totals + sum(next_sample[-4:])\n",
    "\n",
    "        print('Total bacteria sampled: ', totals)\n",
    "```\n",
    "\n",
    "Show \n",
    "```\n",
    "    range(10)\n",
    "    (type(range(10))\n",
    "    list(range(10))\n",
    "    print(range(10))\n",
    "```"
   ]
  },
  {
   "cell_type": "code",
   "execution_count": null,
   "metadata": {},
   "outputs": [],
   "source": []
  }
 ],
 "metadata": {
  "anaconda-cloud": {},
  "kernelspec": {
   "display_name": "Python [default]",
   "language": "python",
   "name": "python3"
  },
  "language_info": {
   "codemirror_mode": {
    "name": "ipython",
    "version": 3
   },
   "file_extension": ".py",
   "mimetype": "text/x-python",
   "name": "python",
   "nbconvert_exporter": "python",
   "pygments_lexer": "ipython3",
   "version": "3.5.4"
  },
  "latex_envs": {
   "bibliofile": "biblio.bib",
   "cite_by": "apalike",
   "current_citInitial": 1,
   "eqLabelWithNumbers": true,
   "eqNumInitial": 0
  }
 },
 "nbformat": 4,
 "nbformat_minor": 2
}
