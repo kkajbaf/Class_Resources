{
 "cells": [
  {
   "cell_type": "markdown",
   "metadata": {},
   "source": [
    "# Lecture 14 2018-10-04: I/O, exceptions, style\n",
    "\n",
    "This worksheet accompanies the lecture notes."
   ]
  },
  {
   "cell_type": "markdown",
   "metadata": {
    "heading_collapsed": true
   },
   "source": [
    "## Things I forgot to mention about functions"
   ]
  },
  {
   "cell_type": "markdown",
   "metadata": {
    "hidden": true
   },
   "source": [
    "### Function namespace\n",
    "\n",
    ">what happens in a function stays in the function\n",
    "\n",
    "Remember, the stuff in a *def* is in a new namespace. "
   ]
  },
  {
   "cell_type": "code",
   "execution_count": null,
   "metadata": {
    "hidden": true
   },
   "outputs": [],
   "source": [
    "def foo(inside_object):\n",
    "    print(inside_object)\n",
    "    return None"
   ]
  },
  {
   "cell_type": "code",
   "execution_count": null,
   "metadata": {
    "hidden": true
   },
   "outputs": [],
   "source": [
    "foo('yowza')\n",
    "print(inside_object)"
   ]
  },
  {
   "cell_type": "code",
   "execution_count": null,
   "metadata": {
    "hidden": true
   },
   "outputs": [],
   "source": [
    "this_thing = 'kaching'\n",
    "foo('kaching')\n",
    "print(this_thing)"
   ]
  },
  {
   "cell_type": "code",
   "execution_count": 62,
   "metadata": {
    "hidden": true
   },
   "outputs": [
    {
     "name": "stdout",
     "output_type": "stream",
     "text": [
      "1\n"
     ]
    }
   ],
   "source": [
    "def add_one(x): x = x+1; return None\n",
    "x=1\n",
    "add_one(x)\n",
    "print(x)"
   ]
  },
  {
   "cell_type": "markdown",
   "metadata": {
    "hidden": true
   },
   "source": [
    "### non atomic (aka \"compound\", \"large\") parameters passed as name to an object\n",
    "\n",
    "If the input parameter is something \"large\", the item is passed *by reference*, meaning that the parameter is a reference for the object named in the parameter. \n",
    "What actually happens is that the function name space creates an alias for the object that is passed in, with the name of the parameter. \n",
    "Therefore, changes made to the parameter in the function are made to the object itself, and show up outside the function."
   ]
  },
  {
   "cell_type": "code",
   "execution_count": null,
   "metadata": {
    "hidden": true
   },
   "outputs": [],
   "source": [
    "# Remember\n",
    "x=[1,2,3]\n",
    "y=x\n",
    "y.append(4)\n",
    "print(y)\n",
    "print(x)"
   ]
  },
  {
   "cell_type": "code",
   "execution_count": null,
   "metadata": {
    "hidden": true
   },
   "outputs": [],
   "source": [
    "x=[1,2,3]\n",
    "def add_one(x):\n",
    "    x.append('new thing')\n",
    "\n",
    "add_one(x)\n",
    "print(x)\n",
    "print(y)"
   ]
  },
  {
   "cell_type": "markdown",
   "metadata": {
    "heading_collapsed": true
   },
   "source": [
    "## Input/Output\n"
   ]
  },
  {
   "cell_type": "markdown",
   "metadata": {
    "hidden": true
   },
   "source": [
    "### getting user input\n",
    "\n",
    "To get input from STDIN, which is the terminal by default, after showing (on STDOUT) \"prompt\":\n",
    "\n",
    ">input('prompt')"
   ]
  },
  {
   "cell_type": "code",
   "execution_count": null,
   "metadata": {
    "hidden": true
   },
   "outputs": [],
   "source": [
    "while True:\n",
    "    ans = input('continue? (Y/N)')\n",
    "    if ans == 'Y': break"
   ]
  },
  {
   "cell_type": "markdown",
   "metadata": {
    "hidden": true
   },
   "source": [
    "Why is this better?"
   ]
  },
  {
   "cell_type": "code",
   "execution_count": null,
   "metadata": {
    "hidden": true
   },
   "outputs": [],
   "source": [
    "while True:\n",
    "    ans = input('continue? (Y/N)')\n",
    "    if ans.upper()[0] == 'Y': break"
   ]
  },
  {
   "cell_type": "markdown",
   "metadata": {
    "hidden": true
   },
   "source": [
    "### Using files\n",
    "\n",
    "We have been providing input to our code using variables, such as \n",
    ">dna = 'AGGGCCTA'\n",
    "\n",
    "This is poor practice, since you would have to change your code every time you look at new data. \n",
    "It is an easy way to set up a small test case, but it is poor practice.\n",
    "\n",
    "Usually, you want to read from a file, usually from a text file.\n",
    "To do that you need to open, read, and close the file"
   ]
  },
  {
   "cell_type": "markdown",
   "metadata": {
    "heading_collapsed": true,
    "hidden": true
   },
   "source": [
    "#### Digression: bash revisited\n",
    "\n",
    "It is often unpleasant to use a relative or full path to access a file, especially if it is in a different directory than your program (or notebook). \n",
    "\n",
    "There are two ways around this, in the bash shell (from an open terminal):\n",
    "* use a *link*\n",
    "* use a *system variable*\n",
    "\n",
    "For example, to use the *file* command from a given directory, you could use something like\n",
    "\n",
    ">file /Users/jamesafoster/Computer_Skills_F18/Class_Resources/Datasets/TSE.txt\n",
    "\n",
    "or\n",
    "\n",
    ">file ~/Computer_Skills_F18/Class_Resources/Datasets/TSE.txt\n",
    "\n",
    "or, if you were in the sandbox directory, something like\n",
    "\n",
    ">file ../../Computer_Skills_F18/Class_Resources/Datasets/TSE.txt\n",
    "\n",
    "Or you could change to the other directory first\n",
    "\n",
    ">cd ../../Computer_Skills_F18/Class_Resources/Datasets\n",
    "> file TSE.txt\n",
    "\n",
    "But this is inconvenient. \n",
    "Suppose you are in the *sandbox* directory, and your datasets are elsewhere. In this example, I use my own directory structure, which is probably different from yours. "
   ]
  },
  {
   "cell_type": "markdown",
   "metadata": {
    "hidden": true
   },
   "source": [
    "##### links\n",
    "\n",
    "A link is a special file that gives enough information to the operating system to find and access the file to which it links. (This is like an \"alias\" in OSX.)\n",
    "\n",
    "You will usually use a \"soft\" link. (we won't discuss \"hard\" links). \n",
    "\n",
    "to create a link named l for file f, use\n",
    ">ln -s f l\n",
    "\n",
    "(note the order: from left to right, or from existing file to link)\n",
    "\n",
    "From my sandbox directory\n",
    "\n",
    "```\n",
    "ln -s ../Class_Resources/Datasets/TSE.txt tse.txt\n",
    "ls -l\n",
    "file tse.txt\n",
    "```\n",
    "\n",
    "Any variation of *../Class_Resources/Datasets/*, such as */Users/jamesafoster/Documents/Teaching/_Comp-skills-course/_2018/Class_Resources/Datasets* or *~/Documents/Teaching/_Comp-skills-course/_2018/Class_Resources/Datasets* would also work."
   ]
  },
  {
   "cell_type": "markdown",
   "metadata": {
    "hidden": true
   },
   "source": [
    "##### System variables\n",
    "\n",
    "We briefly mention bash system variables, such as *$PATH*. \n",
    "By convention, system variables are upper case, though this isn't required.\n",
    "\n",
    "Adding a \"$\" to the beginning of a variable name returns the **value** of that variable.\n",
    "\n",
    "To see all variables that exist in a given bash session:\n",
    "\n",
    ">set | less\n",
    "\n",
    "You can create variables with the set command. To create a CLASS_DATASETS variable with the full path to that directory:\n",
    "\n",
    "```\n",
    "CLASS_DATASETS=\"/Users/jamesafoster/Documents/Teaching/_Comp-skills-course/_2018/Class_Resources/Datasets\"\n",
    "\n",
    "echo $CLASS_DATASETS\n",
    "```\n",
    "\n",
    "**Note:**\n",
    "* there are no spaces around \"=\"! (python more forgiving than bash)\n",
    "* the double quotes in the above *set* command will be \"evaluated\", so you can use other variables inside a value. \n",
    "For example:\n",
    "\n",
    "```\n",
    "CLASS_REPO=\"/Users/jamesafoster/Documents/Teaching/_Comp-skills-course/_2018/Class_Resources/\"\n",
    "CLASS_DATASETS=\"$CLASS_REPO/Datasets/\"\n",
    "CLASS_ASSIGNMENTS=\"$CLASS_REPO/Homework/\"\n",
    "CLASS_HOMEWORK=\"$CLASS_REPO/../_jamesafoster/\"\n",
    "\n",
    "set | grep 'CLASS'\n",
    "```"
   ]
  },
  {
   "cell_type": "markdown",
   "metadata": {
    "hidden": true
   },
   "source": [
    "#### Back to using files in python\n",
    "\n",
    "I assume that I have a soft link in sandbox to the TSE.txt file in the Resources/Databases directory\n",
    "\n",
    "All access to a file in python is through the methods in a *file object* (also sometimes called a *file handle*. \n",
    "To create a file handle, use the *open* command with the name of the file and 'r', 'w', 'a', depending on whether you want to read from, write to, or append to the file. If the file does't exist and you use 'w' or 'a', the system will create it.\n",
    "\n",
    ">input_file_handle = open('input filename','r')\n",
    ">output_file_handle = open('output filename','w')\n",
    ">append_file_handle = open('append filename','a')\n",
    "\n",
    "Notice that *readline* \"remembers\" where you stopped reading, so that the next read begins there. "
   ]
  },
  {
   "cell_type": "code",
   "execution_count": null,
   "metadata": {
    "hidden": true
   },
   "outputs": [],
   "source": [
    "# from sandbox, assuming link to Resources/Databases/TSE.txt named tse.txt\n",
    "sandbox_directory = '/Users/jamesafoster/Documents/Teaching/_Comp-skills-course/_2018/sandbox/'\n",
    "\n",
    "input_file_handle = open(sandbox_directory+'tse.txt','r')\n",
    "output_file_handle = open(sandbox_directory+'output.txt','w')\n",
    "append_file_handle = open(sandbox_directory+'append.txt','a')"
   ]
  },
  {
   "cell_type": "markdown",
   "metadata": {
    "hidden": true
   },
   "source": [
    "To read from a file, use the *readline* method to read the next line or *read* to read the entire file (including new line characters) at once.\n",
    "\n",
    "to write string s to a file, use the *write(s)* method.\n",
    "\n",
    "You rarely use *readline* because you can just iterate through the file handle (see first example below). \n",
    "The exception is when the file is large but still fits in memory. \n",
    "Each time data moves from the file to the program, the computer has to find the file, move to the right location in the file, move the data from the external storage to a buffer set aside for the program, then advance the \"next line\" pointer. *read* does that once per line. *readline* does it once for the entire file--then the entire file is in the program's space, which is much, much faster. (Aside: there are ways to handle files that are too large for *readline*, but we don't cover them here.)"
   ]
  },
  {
   "cell_type": "code",
   "execution_count": null,
   "metadata": {
    "hidden": true
   },
   "outputs": [],
   "source": [
    "output_file_handle.write('first new line')\n",
    "output_file_handle.write('first new line')\n",
    "\n",
    "append_file_handle.write('first append line')\n",
    "append_file_handle.write('second append line')\n",
    "\n",
    "# go look at files\n"
   ]
  },
  {
   "cell_type": "code",
   "execution_count": null,
   "metadata": {
    "hidden": true
   },
   "outputs": [],
   "source": [
    "# read one line at a time, easy way\n",
    "input_file_handle = open(sandbox_directory+'tse.txt','r')\n",
    "for next_line in input_file_handle:\n",
    "    print('next line>', next_line.strip())  # show what .strip() does\n",
    "\n",
    "input_file_handle.close()"
   ]
  },
  {
   "cell_type": "code",
   "execution_count": null,
   "metadata": {
    "hidden": true
   },
   "outputs": [],
   "source": [
    "# read once and parse inline\n",
    "input_file_handle = open(sandbox_directory+'tse.txt','r')\n",
    "\n",
    "x=input_file_handle.read()      # get everything\n",
    "file_content = x.split('\\n')    # split into a list\n",
    "for next_line in file_content:  # walk through the list\n",
    "    print('next line...', next_line)\n",
    "\n",
    "input_file_handle.close()"
   ]
  },
  {
   "cell_type": "code",
   "execution_count": null,
   "metadata": {
    "hidden": true
   },
   "outputs": [],
   "source": [
    "# file_content is a list of lines\n",
    "file_content"
   ]
  },
  {
   "cell_type": "markdown",
   "metadata": {
    "hidden": true
   },
   "source": [
    "Always close a file when you are done. This commits all the writes and frees up space.\n",
    "\n",
    ">file_handle.close()\n",
    "\n",
    "Python will close for you automatically if it knows you are finished with the file handle. \n",
    "It knows this if the file handle goes out of scope. \n",
    "To create a new scope, use *with...as*. \n",
    "This is a common idiom."
   ]
  },
  {
   "cell_type": "code",
   "execution_count": null,
   "metadata": {
    "hidden": true
   },
   "outputs": [],
   "source": [
    "input_file_handle = open(sandbox_directory+'tse.txt','r')\n",
    "\n",
    "with open(sandbox_directory+'tse.txt','r') as input_file_handle:\n",
    "    for next_line in input_file_handle:\n",
    "        print('next line>', next_line.strip())"
   ]
  },
  {
   "cell_type": "markdown",
   "metadata": {
    "heading_collapsed": true
   },
   "source": [
    "## When things go wrong\n",
    "\n",
    "When something goes wrong, python \"throws an exception\" with a \"traceback\". The type of the exception tells you what went wrong and the traceback shows you where it went wrong. \n",
    "\n",
    "Sometimes you have to look at the instruction *before* the one where the exception occurred to find the problem. \n",
    "\n",
    "the class preparation has many examples: https://docs.python.org/3/tutorial/errors.html"
   ]
  },
  {
   "cell_type": "markdown",
   "metadata": {
    "hidden": true
   },
   "source": [
    "### syntax errors\n",
    "\n",
    "The python interpreter can't figure out what you want. \n",
    "(these are technically errors, not exceptions, because python couldn't even get far enough to take exception.)"
   ]
  },
  {
   "cell_type": "code",
   "execution_count": null,
   "metadata": {
    "hidden": true
   },
   "outputs": [],
   "source": [
    "input(foo)\n",
    "   print('that was true')\n",
    "\n",
    "my_string = 'this isn't the way it should be\n",
    "\n",
    "print 'foo'\n",
    "\n",
    "'''"
   ]
  },
  {
   "cell_type": "markdown",
   "metadata": {
    "hidden": true
   },
   "source": [
    "### Exceptions\n",
    "There are specific types of exceptions, depending on the problem that python encountered.\n",
    "When the python interpreter throws an exception, it **stops** immediately. \n",
    "So, you end up fixing your exceptions one at a time--which is good because it helps you focus.\n",
    "\n",
    "Type of Exception  | reason for exception\n",
    ":----------------  | :-------------------\n",
    "ZeroDivisionError  | division by zero\n",
    "NameError          | you referenced an object that doesn't exist, it has no name\n",
    "TypeError          | you did something not allowed for this type of object\n",
    "IOError            | you try to do something with a file that can't be done\n",
    "ImportError        | you try to import a module that doesn't exist\n",
    "IndexError         | you try to index something at a point where it has no index\n",
    "KeyError           | dict entry does not exist (use dict.get())\n",
    "\n",
    "Let's come up with examples."
   ]
  },
  {
   "cell_type": "code",
   "execution_count": null,
   "metadata": {
    "hidden": true
   },
   "outputs": [],
   "source": []
  },
  {
   "cell_type": "markdown",
   "metadata": {
    "hidden": true
   },
   "source": [
    "#### solutions (show **after** creating examples)"
   ]
  },
  {
   "cell_type": "code",
   "execution_count": null,
   "metadata": {
    "hidden": true
   },
   "outputs": [],
   "source": [
    "# ZeroDevisionError\n",
    "1/0\n",
    "x,y = 1,0; x/y"
   ]
  },
  {
   "cell_type": "code",
   "execution_count": null,
   "metadata": {
    "hidden": true
   },
   "outputs": [],
   "source": [
    "# NameError\n",
    "print(this_doesnt_exist)\n",
    "x=this_doesnt_exist"
   ]
  },
  {
   "cell_type": "code",
   "execution_count": null,
   "metadata": {
    "hidden": true
   },
   "outputs": [],
   "source": [
    "# TypeError\n",
    "#'\\t'.join([1,2,3])\n",
    "(1,2,3)[0] = 9"
   ]
  },
  {
   "cell_type": "code",
   "execution_count": null,
   "metadata": {
    "hidden": true
   },
   "outputs": [],
   "source": [
    "# IOError\n",
    "input_file_handle = open(sandbox_directory+'tse.txt','r')\n",
    "\n",
    "input_file_handle = open(sandbox_directory+'tse.txt','r')\n",
    "input_line = input_file_handle.read()\n",
    "input_file_handle.close()\n",
    "input_line = input_file_handle.read()\n",
    "\n",
    "with open(sandbox_directory+'tse.txt','r') as input_file_handle:\n",
    "    for next_line in input_file_handle:\n",
    "        print('next line>', next_line.strip())\n",
    "print(input_file_handle.read())"
   ]
  },
  {
   "cell_type": "code",
   "execution_count": null,
   "metadata": {
    "hidden": true
   },
   "outputs": [],
   "source": [
    "# ImportError\n",
    "import no_such_module\n",
    "\n",
    "from no_such_module import nothing as nada"
   ]
  },
  {
   "cell_type": "code",
   "execution_count": null,
   "metadata": {
    "hidden": true
   },
   "outputs": [],
   "source": [
    "# IndexError\n",
    "x = [1,2,3]\n",
    "print(x[3])\n",
    "\n",
    "i = 0\n",
    "while i <= 3:\n",
    "    print(x[i])\n",
    "    i = i+1"
   ]
  },
  {
   "cell_type": "code",
   "execution_count": null,
   "metadata": {
    "hidden": true
   },
   "outputs": [],
   "source": [
    "# KeyError\n",
    "d = {'a':1, 'b':2}\n",
    "#d['c']\n",
    "\n",
    "#instead:\n",
    "d.get('c','no such entry')"
   ]
  },
  {
   "cell_type": "markdown",
   "metadata": {
    "hidden": true
   },
   "source": [
    "### Not errors but confusing"
   ]
  },
  {
   "cell_type": "code",
   "execution_count": null,
   "metadata": {
    "hidden": true
   },
   "outputs": [],
   "source": [
    "print\n",
    "\n",
    "import numpy as np\n",
    "np.random\n",
    "\n",
    "def foo(x): y=x; print(y); return None\n",
    "foo('yowza')\n",
    "print(x)"
   ]
  },
  {
   "cell_type": "markdown",
   "metadata": {
    "heading_collapsed": true
   },
   "source": [
    "## Style\n",
    "\n",
    "Read the preparation url (just ignore stuff that we haven't discussed): https://www.python.org/dev/peps/pep-0008/\n",
    "\n",
    "This is also a good site: https://docs.python-guide.org/writing/style/\n",
    "\n",
    "Here are some examples of bad style. Discuss and correct them."
   ]
  },
  {
   "cell_type": "markdown",
   "metadata": {
    "hidden": true
   },
   "source": [
    "But first, check out the *zen of python*"
   ]
  },
  {
   "cell_type": "code",
   "execution_count": null,
   "metadata": {
    "hidden": true
   },
   "outputs": [],
   "source": [
    "import this"
   ]
  },
  {
   "cell_type": "code",
   "execution_count": null,
   "metadata": {
    "hidden": true
   },
   "outputs": [],
   "source": [
    "def cc(s, c): # this is my function\n",
    "    x,y=[],0\n",
    "    for nc in c:x.append(s.count(nc))\n",
    "    return(x) \n",
    "\n",
    "print(cc('ACNTKT','ACGTN?XYK'))"
   ]
  },
  {
   "cell_type": "code",
   "execution_count": null,
   "metadata": {
    "hidden": true
   },
   "outputs": [],
   "source": [
    "c = {'ATA':'I', 'ATC':'I', 'ATT':'I', 'ATG':'M','ACA':'T', 'ACC':'T', 'ACG':'T', 'ACT':'T','AAC':'N', 'AAT':'N', 'AAA':'K', 'AAG':'K','AGC':'S', 'AGT':'S', 'AGA':'R', 'AGG':'R','CTA':'L', 'CTC':'L', 'CTG':'L', 'CTT':'L','CCA':'P', 'CCC':'P', 'CCG':'P', 'CCT':'P','CAC':'H', 'CAT':'H', 'CAA':'Q', 'CAG':'Q','CGA':'R', 'CGC':'R', 'CGG':'R', 'CGT':'R','GTA':'V', 'GTC':'V', 'GTG':'V', 'GTT':'V','GCA':'A', 'GCC':'A', 'GCG':'A', 'GCT':'A','GAC':'D', 'GAT':'D', 'GAA':'E', 'GAG':'E','GGA':'G', 'GGC':'G', 'GGG':'G', 'GGT':'G','TCA':'S', 'TCC':'S', 'TCG':'S', 'TCT':'S','TTC':'F', 'TTT':'F', 'TTA':'L', 'TTG':'L','TAC':'Y', 'TAT':'Y', 'TAA':'_', 'TAG':'_','TGC':'C', 'TGT':'C', 'TGA':'_', 'TGG':'W',}"
   ]
  },
  {
   "cell_type": "code",
   "execution_count": null,
   "metadata": {
    "hidden": true
   },
   "outputs": [],
   "source": [
    "# not using methods \n",
    "d = {'hello': 'world'}\n",
    "if d.has_key('hello'):\n",
    "    print d['hello']    # prints 'world'\n",
    "else:\n",
    "    print 'default_value'"
   ]
  },
  {
   "cell_type": "code",
   "execution_count": null,
   "metadata": {
    "hidden": true
   },
   "outputs": [],
   "source": [
    "# not using for or while (while i in a, for x in a)\n",
    "a = [3, 4, 5]\n",
    "for i in a:\n",
    "    if i > 4:\n",
    "        a.remove(i)\n",
    "\n",
    "i = 0\n",
    "while i < len(a):\n",
    "    print(a)\n",
    "    i=i+1"
   ]
  },
  {
   "cell_type": "code",
   "execution_count": null,
   "metadata": {
    "hidden": true
   },
   "outputs": [],
   "source": []
  }
 ],
 "metadata": {
  "anaconda-cloud": {},
  "kernelspec": {
   "display_name": "Python [default]",
   "language": "python",
   "name": "python3"
  },
  "language_info": {
   "codemirror_mode": {
    "name": "ipython",
    "version": 3
   },
   "file_extension": ".py",
   "mimetype": "text/x-python",
   "name": "python",
   "nbconvert_exporter": "python",
   "pygments_lexer": "ipython3",
   "version": "3.5.4"
  },
  "latex_envs": {
   "bibliofile": "biblio.bib",
   "cite_by": "apalike",
   "current_citInitial": 1,
   "eqLabelWithNumbers": true,
   "eqNumInitial": 0
  }
 },
 "nbformat": 4,
 "nbformat_minor": 2
}
