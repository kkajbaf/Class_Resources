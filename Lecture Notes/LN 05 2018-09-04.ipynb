{
 "cells": [
  {
   "cell_type": "markdown",
   "metadata": {},
   "source": [
    "# Worksheet for Lecture 5 2018-09-04\n",
    "\n",
    "This worksheet accompanies the lecture notes."
   ]
  },
  {
   "cell_type": "markdown",
   "metadata": {},
   "source": [
    "## Python syntax\n",
    "\n",
    "Python uses spaces to show what goes together. \n",
    "Code at the same indent level goes together.\n",
    "\n",
    "Be careful. Tabs show up as white space. Missing indents can break the \"code block\".\n",
    "\n",
    ">Best practice: always use 4 spaces for indent; have editor change tabs to spaces\n",
    "\n",
    "*within* a line, space doesn't matter"
   ]
  },
  {
   "cell_type": "markdown",
   "metadata": {},
   "source": [
    "What is wrong with the following code? How do you fix it?\n",
    "The next block doesn't work. The one after that does."
   ]
  },
  {
   "cell_type": "code",
   "execution_count": null,
   "metadata": {},
   "outputs": [],
   "source": [
    "dna_string = 'CGCAGCTAACGCATTAAGCACTCCGCCTGGGGAGTACGACCGCAAGGTTGAA'\n",
    "\n",
    "for nucleotid in dna_string:\n",
    "if nucleotide == 'A':\n",
    "    count_purines[0] = count_purines[0] + 1\n",
    "    if nucleotide == 'G':\n",
    "        count_purines[1] = count_purines[1] + 1\n",
    "\n",
    "number_of_purines = count_purines + count_purines\n",
    "\n",
    "print('input string: ', dna_string, '\\nPurines: ', number_of_purines)"
   ]
  },
  {
   "cell_type": "code",
   "execution_count": null,
   "metadata": {},
   "outputs": [],
   "source": [
    "dna_string = 'CGCAGCTAACGCATTAAGCACTCCGCCTGGGGAGTACGACCGCAAGGTTGAA'\n",
    "count_purines = [0,0]\n",
    "\n",
    "for nucleotide in dna_string:\n",
    "    if nucleotide == 'A':\n",
    "        count_purines[0] = count_purines[0] + 1\n",
    "    if nucleotide == 'G':\n",
    "        count_purines[1] = count_purines[1] + 1\n",
    "\n",
    "number_of_purines = sum(count_purines)\n",
    "\n",
    "print('input string: ', dna_string, '\\nPurines: ', number_of_purines)"
   ]
  },
  {
   "cell_type": "markdown",
   "metadata": {},
   "source": [
    "## Python comments\n",
    "single line comments begin with \\# and can go anywhere except in code.\n",
    "\n",
    "multiple line comments start and end with three tic marks: \\`\\`\\`\n",
    "\n",
    "Always include multi-line comments to describe your program. These are visible to everyone who uses your program."
   ]
  },
  {
   "cell_type": "markdown",
   "metadata": {},
   "source": [
    "Add comments to this code"
   ]
  },
  {
   "cell_type": "code",
   "execution_count": null,
   "metadata": {},
   "outputs": [],
   "source": [
    "ADD LONG COMMENT HERE DESCRIBING CODE CHUNK\n",
    "\n",
    "dna_string = 'CGCAGCTAACGCATTAAGCACTCCGCCTGGGGAGTACGACCGCAAGGTTGAA'\n",
    "count_purines = [0,0]\n",
    "\n",
    "for nucleotide in dna_string: ADD COMMENT HERE DESCRIBING PURPOSE OF LOOP\n",
    "    if nucleotide == 'A':\n",
    "        count_purines[0] = count_purines[0] + 1\n",
    "    if nucleotide == 'G':\n",
    "        count_purines[1] = count_purines[1] + 1\n",
    "\n",
    "number_of_purines = sum(count_purines)\n",
    "\n",
    "print('input string: ', dna_string, '\\nPurines: ', number_of_purines)"
   ]
  },
  {
   "cell_type": "markdown",
   "metadata": {},
   "source": [
    "## Data types\n",
    "\n",
    "Each object which represents an item of data has a \"type\". \n",
    "The type determines what properties one should expect it to have, and what you should expect it to do. \n",
    "Important properties are \"type\" and \"value\". \n",
    "You access the value any time you use the object by itself. \n",
    "The things the object does are called *methods*. \n",
    "\n",
    "You often hear an object called a \"variable\", for historical reasons.\n",
    "Well, almost always, not just \"often\".\n",
    "\n",
    "One accesses Python methods with like this: *object.method()*\n",
    "\n",
    "For example, you expect something of type \"dog\" to have a name for its value, and to be able to bark. \n",
    "So, if *my_dog* were a python dog-type object, you would expect it's value to be something like \"fido\", and for *my_dog.bark()* to make that dog bark. \n",
    "So, one might see code like this\n",
    "\n",
    "```\n",
    "my_dog = dog('Fido')\n",
    "type(my_dog)    # returns 'dog'\n",
    "my_dog.bark()   # makes Fido bark\n",
    "```\n",
    "\n",
    "*dog* is not a built-in python data type. But there are built in types for numbers, strings, lists of objects, and more. \n",
    "\n",
    "python does it's best to guess what the type is for any object you create. \n",
    "It is not perfect (in particular, it often mistakes a string for a number). \n",
    "You can also *coerce* (or *cast*) an object to be of a specific type with *the_type(the_object)*."
   ]
  },
  {
   "cell_type": "markdown",
   "metadata": {},
   "source": [
    "### Introspection and help\n",
    "\n",
    "Tab completion works in Jupyter. \n",
    "So, since methods follow the period after an object name, Entering\n",
    "\n",
    ">object.\\<tab/>\n",
    "\n",
    "will give you a list of the methods in *object*\n",
    "\n",
    "You can also get a descripion about python items by ending them with a \"?\". \n",
    "For example, the following describe an object, then one of its methods.\n",
    "\n",
    ">object?\n",
    "\n",
    ">object.method?\n",
    "\n",
    "\"??\" sometimes shows the code for an objec or method."
   ]
  },
  {
   "cell_type": "code",
   "execution_count": null,
   "metadata": {},
   "outputs": [],
   "source": [
    "# find the methods associated with dna_string (from above)\n",
    "# get a description of the dna_string.upper() method"
   ]
  },
  {
   "cell_type": "markdown",
   "metadata": {},
   "source": [
    "### Scalar data types"
   ]
  },
  {
   "cell_type": "markdown",
   "metadata": {},
   "source": [
    "#### numbers\n",
    "\n",
    "type | description\n",
    "---- | :-----------\n",
    "int  | positive or negative integer (whole number)\n",
    "float| floating point (aka \"infinite precision\" or decimal numbers)\n",
    "\n",
    "There are other numeric types. There are variations of int and float that differ in their precision. There are (when using the appropriate module) complex numbers, fractions (in the form p/q), etc.\n",
    "\n",
    "The methods one expects of numbers are all there, namely addition, subtraction, division, multiplication, comparison, etc. \n",
    "With numbers, one accesses these methods the way one would expect, without a \".\".\n",
    "\n",
    "You can display the value of a number with the print command *print(number)*."
   ]
  },
  {
   "cell_type": "markdown",
   "metadata": {},
   "source": [
    "try out the following\n",
    "```\n",
    "\n",
    "one = \n",
    "two = \n",
    "\n",
    "x = one + two\n",
    "y = one/two\n",
    "\n",
    "float_one = \n",
    "float_two = \n",
    "\n",
    "z = one * (float_one + float_two)\n",
    "\n",
    "'1' + '2'\n",
    "\n",
    "int('1')+float('2')\n",
    "\n",
    "int(2.345)\n",
    "float(2)\n",
    "```"
   ]
  },
  {
   "cell_type": "code",
   "execution_count": null,
   "metadata": {},
   "outputs": [],
   "source": [
    "# do some dumb number stuff"
   ]
  },
  {
   "cell_type": "markdown",
   "metadata": {},
   "source": [
    "what types are these objects? What are their values?\n",
    "\n",
    "What happens if you divide by zero?"
   ]
  },
  {
   "cell_type": "markdown",
   "metadata": {},
   "source": [
    "#### Booleans\n",
    "\n",
    "An object of boolean type can have one of only three possible values: *True*, *False*, or *None*. (Note the case of those values). \n",
    "These mean exactly what you think they mean (*None* means \"I have no value\").\n",
    "\n",
    "When you do a comparison, the result is a boolean. \n",
    "\n",
    "Common comparisons are <, >, <=, >=, == (note, *not* =). \n",
    "But other methods can return boolean values. For example, *dog.has_fleas()* is likely to be either true or false. \n",
    "\n",
    "Putting an exclamation point in front of a comparison negates it. So, !<, != (not !==), and !<= mean \"not less than\", \"not equal to\", and \"greater than\" (aka \"not less than or equal). \n",
    "\n",
    "Python does its best to make sense of your comparisons. Sometimes it can't figure out what you want.\n",
    "\n",
    "Try out the following.\n",
    "\n",
    "```\n",
    "    1 < 2\n",
    "    2 <= 1\n",
    "    'a' == 'apple'\n",
    "    'a' != 'apple'\n",
    "    '1' < 2.345\n",
    "    'abraham' < 'isaac'\n",
    "    True == False\n",
    "    true == FALSE\n",
    "    (1<2) == ('pies' == 'squared')\n",
    "```"
   ]
  },
  {
   "cell_type": "code",
   "execution_count": null,
   "metadata": {},
   "outputs": [],
   "source": [
    "# try some comparisons"
   ]
  },
  {
   "cell_type": "markdown",
   "metadata": {},
   "source": [
    "#### Strings\n",
    " \n",
    "A string, str in python, is an object whose value is a sequence of characters.\n",
    "To create a string, enclose its characters in either single or double quotes. \n",
    "(I usually use single quotes because I am **that** lazy).\n",
    "Characters that don't display, such as a tab or a newline, can still be part of a string.\n",
    "You enter these with the *escape character*, the backslash \\\\.\n",
    "\n",
    "Strings have methods one would expect of a string.\n",
    "Some particularly useful methods are str.upper(), str.find(), str.count(), and str.join()\n",
    "They do what you think they do.\n",
    "\n",
    "When you co-erce an object to be a string, with *str(object)*, python tries to do what you think it should.\n",
    "\n",
    "you can display the value of a string with *print(string)*. \n",
    "\n",
    "Try out the following:\n",
    "\n",
    "```\n",
    "    my_name = 'puddentain, ask me again and I\\'ll tell you the same' # what is \"\\'\" doing there?\n",
    "    my_name.count('a')\n",
    "    my_name.count(a)\n",
    "    print('first a in', my_name, ' is at position ', my_name.find('a')\n",
    "    dna = CGCAGCTAACGCATTAAGCACTCCGCCTGGGGAGTACGACCGCAAGGTTGAA\n",
    "    dl = dna.lower()\n",
    "    f = 'foo'\n",
    "    b = 'bar'\n",
    "    compare = f < b\n",
    "    screw_up = f + b\n",
    "    one = '1'\n",
    "    two = '2'\n",
    "    three = one + two\n",
    "```"
   ]
  },
  {
   "cell_type": "code",
   "execution_count": null,
   "metadata": {},
   "outputs": [],
   "source": []
  }
 ],
 "metadata": {
  "kernelspec": {
   "display_name": "Python [default]",
   "language": "python",
   "name": "python3"
  },
  "language_info": {
   "codemirror_mode": {
    "name": "ipython",
    "version": 3
   },
   "file_extension": ".py",
   "mimetype": "text/x-python",
   "name": "python",
   "nbconvert_exporter": "python",
   "pygments_lexer": "ipython3",
   "version": "3.5.5"
  },
  "latex_envs": {
   "bibliofile": "biblio.bib",
   "cite_by": "apalike",
   "current_citInitial": 1,
   "eqLabelWithNumbers": true,
   "eqNumInitial": 0
  }
 },
 "nbformat": 4,
 "nbformat_minor": 2
}
