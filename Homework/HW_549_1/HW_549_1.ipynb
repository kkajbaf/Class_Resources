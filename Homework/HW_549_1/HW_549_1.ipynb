{
 "cells": [
  {
   "cell_type": "markdown",
   "metadata": {},
   "source": [
    "# Homework 1 for Bio 549 \n",
    "\n",
    "**Note:** If you are enrolled in Bio 456 (the undergraduate version of this course) you *do not have to do* this assignment!\n",
    "\n",
    "If you have enrolled in this course as Bio 549, for graduate credit, then you need to do a class project. The project should use what you have learned in this course to analyze a \"real\" biological dataset. Simulation data are ok if your research involves simulations. \n",
    "\n",
    "My hope is that you will use data relevant to your thesis. If you do not yet have a thesis topic, this is a chance to explore something that might become your thesis. If you are deep into your thesis work, this can be a next step. \n",
    "\n",
    "This homework is an informal initial proposal of an idea or two that might interest you. I will look these over, then you and I will have a conversation (perhaps by email) to refine the topic. You will submit a refined proposal in a week or two.\n",
    "\n",
    "Fill in the boxes below, and submit this on your private class repo, as usual. \n",
    "\n",
    "**Assigned:** LN 13 10-02\n",
    "\n",
    "**Due:** LN 15 10-09"
   ]
  },
  {
   "cell_type": "markdown",
   "metadata": {},
   "source": [
    "## Details about the presentation\n",
    "\n",
    "Presentations will be between 11-19-18 and 12-6-18, the last three classes. \n",
    "\n",
    "They should be 10-15 minutes long (10 is better) with 5 minutes for Q&A. Notice that these are *short* presentations.\n",
    "\n",
    "Everyone in the class will fill out an evalution form (see this directory for a copy). The criteria are:\n",
    "\n",
    "1. what is the talk about? (your listeners ought to be able to answer this when you're done!)\n",
    "2. Why is the problem important? (don't assume it's important because you are interested in it, or because your PI said so.)\n",
    "3. What were your computational challenges, and how did you address them?\n",
    "4. Give summary scores on: clarity, graphics, and Q&A\n",
    "\n",
    "Remember, you are presenting to biology undergraduates and to graduate students who are **not** in your field. You may assume they know genetics and basic statistics. "
   ]
  },
  {
   "cell_type": "markdown",
   "metadata": {},
   "source": [
    "## Your proposed project\n",
    "\n",
    "Fill in the sections below. make multiple copies if you need to, but please no more than three. "
   ]
  },
  {
   "cell_type": "markdown",
   "metadata": {},
   "source": []
  },
  {
   "cell_type": "markdown",
   "metadata": {},
   "source": [
    "### Project description\n",
    "\n",
    "What research question will you ask, and why is it important to you and to \"the field\"."
   ]
  },
  {
   "cell_type": "markdown",
   "metadata": {},
   "source": []
  },
  {
   "cell_type": "markdown",
   "metadata": {},
   "source": [
    "### Background information\n",
    "\n",
    "If you need to, say something about the biology here for people (like me!) who are not in your specialty."
   ]
  },
  {
   "cell_type": "markdown",
   "metadata": {},
   "source": []
  },
  {
   "cell_type": "markdown",
   "metadata": {},
   "source": [
    "### Data description\n",
    "\n",
    "What data will you use? \n",
    "\n",
    "How much data will you have?\n",
    "\n",
    "Where will you get your data? (If it's from your PI, please be sure they know about this project!)"
   ]
  },
  {
   "cell_type": "markdown",
   "metadata": {},
   "source": []
  },
  {
   "cell_type": "markdown",
   "metadata": {},
   "source": [
    "### Prior work (if any)\n",
    "\n",
    "If you have already done some work on this problem with these data, please describe it here, and say how *this* class project is different."
   ]
  },
  {
   "cell_type": "markdown",
   "metadata": {},
   "source": []
  },
  {
   "cell_type": "markdown",
   "metadata": {},
   "source": [
    "## Grading\n",
    "\n",
    "Andrew and I will not grade this notebook. The purpose here is to start a dialogue."
   ]
  }
 ],
 "metadata": {
  "anaconda-cloud": {},
  "kernelspec": {
   "display_name": "Python [default]",
   "language": "python",
   "name": "python3"
  },
  "language_info": {
   "codemirror_mode": {
    "name": "ipython",
    "version": 3
   },
   "file_extension": ".py",
   "mimetype": "text/x-python",
   "name": "python",
   "nbconvert_exporter": "python",
   "pygments_lexer": "ipython3",
   "version": "3.5.4"
  },
  "latex_envs": {
   "bibliofile": "biblio.bib",
   "cite_by": "apalike",
   "current_citInitial": 1,
   "eqLabelWithNumbers": true,
   "eqNumInitial": 0
  }
 },
 "nbformat": 4,
 "nbformat_minor": 2
}
