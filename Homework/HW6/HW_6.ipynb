{
 "cells": [
  {
   "cell_type": "markdown",
   "metadata": {},
   "source": [
    "# Homework 6: GC Content\n",
    "\n",
    "Here, you will write simple python code, building on a template I have provided. \n",
    "\n",
    "Fill out this jupyter notebook, adding code to the cells that say to do so. Be sure to save your final version.\n",
    "\n",
    "**Assigned:** 2 October, Lecture 13\n",
    "\n",
    "**Due:** 9 October, Lecture 15\n",
    "\n",
    "Please put all your work in a directory named HW6 on your private repo, so we can keep the different homework solutions separated."
   ]
  },
  {
   "cell_type": "markdown",
   "metadata": {},
   "source": [
    "We revisit the task of computing GC content for a set of DNA sequences, but using functions this time.\n",
    "\n",
    "For each sequence, \n",
    "\n",
    "* report the GC content as a percentage of the non-ambiguous nucleotides\n",
    "\n",
    "* report the percentage of the sequence which has ambiguous characters\n",
    "\n",
    "* report the possible nucleotides that could be represented by each ambiguity code"
   ]
  },
  {
   "cell_type": "markdown",
   "metadata": {},
   "source": [
    "While developing your code, you might find it useful to \"pretty print\" some larger lists or dicts. \n",
    "One way to do that is to use the *pprint* module (so you need to import *pprint*). \n",
    "To do so, execute the next cell. \n",
    "This loads the module into your notebook, then creates a printer named *pp*.\n",
    "Now, if you want to view a data structure, say\n",
    "\n",
    ">pp.pprint(your_structure)\n",
    "\n",
    "For example, to print your gc summary table (see below) enter:\n",
    "\n",
    ">pp.pprint(gc_summary_data)"
   ]
  },
  {
   "cell_type": "code",
   "execution_count": 12,
   "metadata": {},
   "outputs": [],
   "source": [
    "import pprint\n",
    "pp = pprint.PrettyPrinter( width=4, compact=True)"
   ]
  },
  {
   "cell_type": "markdown",
   "metadata": {},
   "source": [
    "## Create data objects you will use in these functions\n",
    "\n",
    "You will need:\n",
    "\n",
    "* *input_sequences*: a list of input sequences\n",
    "\n",
    "* *disambiguate*, which is a dict with an ambiguity code as a key, and a list of the possible nucleotides that the code could represent as a value. See homework 4 for the values you will need.\n",
    "\n",
    "* a set of ambiguity codes\n",
    "\n",
    "pprint is a module (we'll talk about this later) that prints things in a more readable way. You should compare print and pprint, to see what I mean."
   ]
  },
  {
   "cell_type": "code",
   "execution_count": null,
   "metadata": {},
   "outputs": [],
   "source": [
    "input_sequences = ['gdhwgtgcctgattttaagccgdst',\n",
    "    'dccgcgttahgktdgtvgcttgcctb',\n",
    "    'cnatcmagcaaatbcttaccgcatracn',\n",
    "    'cgcgttaacvawtyytttcttgahacrtgbg',\n",
    "    'acgmggtghgggcwadgtmwrtagacta',\n",
    "    'cgcaagsacavccagcatcgthttaahtr']\n",
    "\n",
    "disambiguate = {     \n",
    "    'K': ('Keto', ['G', 'T']), \n",
    "    'M': ('Amino', ['A', 'C']), \n",
    "    ...\n",
    "    'D': ('', ['A', 'G', 'T']), \n",
    "    'N': ('unknown', ['A', 'C', 'G', 'T'])\n",
    "    }\n",
    "\n",
    "ambiguity_codes = set( ...something to do with disambiguate... )"
   ]
  },
  {
   "cell_type": "markdown",
   "metadata": {},
   "source": [
    "## Write functions\n",
    "Create two functions. \n",
    "\n",
    "*compute_content* is a function that takes a sequence and returns a tuple containing the GC content and percent ambiguity. \n",
    "Your solution to homework 2 and various examples from class lectures should help.\n",
    "\n",
    "*is_ambiguous* is a function that takes a character and returns True or False if it is (or is not) an ambiguity code. This function will use a global *set* of ambiguity codes.\n",
    "\n",
    "Be sure to add appropriate long comments (/'/'/' comment /'/'/') to each function."
   ]
  },
  {
   "cell_type": "code",
   "execution_count": null,
   "metadata": {},
   "outputs": [],
   "source": [
    "def compute_content( dna_sequence ):\n",
    "    '''\n",
    "    describe this function here\n",
    "    '''\n",
    "    ...\n",
    "    return (gc_content, percent_ambiguity)"
   ]
  },
  {
   "cell_type": "code",
   "execution_count": null,
   "metadata": {},
   "outputs": [],
   "source": [
    "def is_ambiguous( ... ):\n",
    "    ..."
   ]
  },
  {
   "cell_type": "code",
   "execution_count": 4,
   "metadata": {},
   "outputs": [],
   "source": [
    "def is_ambiguous(code):\n",
    "    return code in ambiguity_codes"
   ]
  },
  {
   "cell_type": "markdown",
   "metadata": {},
   "source": [
    "## Analyze some sequences\n"
   ]
  },
  {
   "cell_type": "markdown",
   "metadata": {},
   "source": [
    "### Summarize GC content\n",
    "\n",
    "Given a list of genomic sequences in, create a list of tuples *(x, c, a, l)* named *gc_summary_data* where\n",
    "\n",
    "* *x* is the sequence itself\n",
    "* *c* is the gc content as a percentage of the non-ambiguous characters in the sequence\n",
    "* *a* is the percentage of the entire sequence which is ambiguous (is an ambiguity code)\n",
    "* *l* is the length of the sequence (both ambiguous and non-ambiguous characters)\n",
    "\n",
    "For example, with input\n",
    "\n",
    "```\n",
    "['GCKSS', 'ABCMY', ]\n",
    "```\n",
    "\n",
    "*gc_summary_data* is (I have formatted this for ease of reading)\n",
    "\n",
    "```\n",
    "[ ('GCKSS', 1.0, 0.6, 5), \n",
    "  ('ABCMY', 0.5, 0.6, 5)\n",
    "]\n",
    "```"
   ]
  },
  {
   "cell_type": "code",
   "execution_count": null,
   "metadata": {},
   "outputs": [],
   "source": [
    "gc_summary_data = [ ... ]"
   ]
  },
  {
   "cell_type": "markdown",
   "metadata": {},
   "source": [
    "### summarize ambiguity\n",
    "A sequence with too many ambiguous reads is not one you can rely on to give you good information. \n",
    "\n",
    "Create a dict named *ambiguity_summary_data* that with the sequences as keys and with values being a list of tuples *(c, a, n, [p])* where *c* is the number of times ambiguity code *a* exists in the sequence, *a*'s name is *n* (use '' for codes that have no names, and 'unknown' for *N*), and *[p]* is a list of the possible nucleotides represented by *a*. There should be one tuple per ambiguity code.\n",
    "\n",
    "For example, with input \n",
    ">['GCKSS', 'ABCMY', ]\n",
    "\n",
    "*ambiguity_summary_data* is (I have formatted this for easy reading)\n",
    "```\n",
    "\n",
    "{ \n",
    "    'GCKSS': [ (1, 'K', 'Keto', ['G', 'T']), \n",
    "               (2, 'S', 'Strong', ['C', 'G']), \n",
    "             ], \n",
    "    'ABCMY': [ (1, 'B', '', ['C', 'G', 'T']), \n",
    "               (1, 'M', 'Amino', ['A', 'C']), \n",
    "               (1, 'Y', 'Pyrimidine', ['C', 'Y'])\n",
    "             ]\n",
    "}\n",
    "```"
   ]
  },
  {
   "cell_type": "code",
   "execution_count": null,
   "metadata": {},
   "outputs": [],
   "source": [
    "ambiguity_codes_data = [...]"
   ]
  },
  {
   "cell_type": "markdown",
   "metadata": {},
   "source": [
    "## Output the data\n",
    "\n",
    "Complete the *str.format()* calls in the code below.\n",
    "\n",
    "If your code works, then the following two code fragments should produce a nice summary of GC content and a nice summary of ambiguity in the sequences. \n",
    "\n",
    "If you read this code carefully, it may help you complete the homework. "
   ]
  },
  {
   "cell_type": "markdown",
   "metadata": {},
   "source": [
    "### produce a GC Content report"
   ]
  },
  {
   "cell_type": "code",
   "execution_count": 13,
   "metadata": {},
   "outputs": [
    {
     "name": "stdout",
     "output_type": "stream",
     "text": [
      "## GC Content report\n",
      "Sequence number\tGC Content\tAmbiguity\n",
      "GDHWG...CGDST\t0.5\t0.2\n",
      "DCCGC...GCCTB\t0.6\t0.23076923076923078\n",
      "CNATC...TRACN\t0.43478260869565216\t0.17857142857142858\n",
      "CGCGT...RTGBG\t0.4166666666666667\t0.22580645161290322\n",
      "ACGMG...GACTA\t0.5714285714285714\t0.25\n",
      "CGCAA...AAHTR\t0.4583333333333333\t0.1724137931034483\n"
     ]
    }
   ],
   "source": [
    "print('## GC Content report')\n",
    "headers = ['Sequence number', 'GC Content', 'Ambiguity', ]\n",
    "print('\\t'.join(headers))\n",
    "\n",
    "for (seq, gc_content, ambiguity, seq_len) in gc_summary_data:\n",
    "    print('\\t'.join([seq[:5] + '...' + seq[-5:], str(gc_content), str(ambiguity)]))"
   ]
  },
  {
   "cell_type": "markdown",
   "metadata": {},
   "source": [
    "### produce data on frequency of ambiguity codes\n",
    "\n",
    "We want to output a tab delimited file where each line is the number of times each ambiguity code, listed in alphabetical order, occurs. \n",
    "\n",
    "A good strategy for this is to have a function that takes a sequence and returns the line of the report corresponding to the sequence. \n",
    "That is what *get_all_ambiguity_code_for* does. You need to make this function work.\n",
    "There are two things to watch out for: \n",
    "\n",
    "* you will be using strings in a *join* when you actually print the report. Look at that cell, below, to see where we're going\n",
    "\n",
    "* It is not the case that all sequences have all ambiguity codes. Watch for those zero counts (hint: understand *dict.get()*\n"
   ]
  },
  {
   "cell_type": "markdown",
   "metadata": {},
   "source": [
    "Our data in *ambiguity_codes_data* has the sequences for keys, and a list of information as values. It would be easier if we re-shape this into a data structure using both the sequence and the ambiguity code as keys, and just the number of times that code appears in that sequence as values. \n",
    "It is fairly common in bioinformatics to have to transform data from one shape to another. \n",
    "\n",
    "The next cell has a (moderately complicated) *dict comprehension* that does this re-shaping. \n",
    "\n",
    "We could have written a function to do the same thing as *get_all_ambiguity_codes_for*, but it would have been more complicated. For example, this would have worked. But it is very un-pythonic. Decomposing the task into \"reshape the data with comprehension, use dict.get() on each string\" produces smaller code fragments that are easier to understand and reuse. \n",
    "\n",
    "\n",
    "```\n",
    "# this is the hard way\n",
    "def get_all_ambiguity_counts_for(dna_sequence):\n",
    "    '''\n",
    "    Returns a summary of the counts of the ambiguity codes for this sequence, \n",
    "    as computed in ambiguity_summary_data, as a list of counts in sorted order of codes.\n",
    "    '''\n",
    "    counts = {}\n",
    "    if dna_sequence not in ambiguity_codes_data:\n",
    "        print('**ERROR**: no entry for ', dna_sequence)\n",
    "        return []\n",
    "    # a dict of counts for this sequence is a good idea, for quick lookup\n",
    "    for (count, code, name, alternatives) in ambiguity_codes_data[dna_sequence]:\n",
    "        counts[code] = str(count)\n",
    "    output_list = []\n",
    "    for code in sorted(disambiguate.keys()):\n",
    "        if code in counts:\n",
    "            output_list.append(counts[code])\n",
    "        else:\n",
    "            output_list.append('0')\n",
    "    return output_list\n",
    "\n",
    "pp.pprint(get_all_ambiguity_counts_for('gdhwgtgcctgattttaagccgdst'.upper()))            \n",
    "```"
   ]
  },
  {
   "cell_type": "code",
   "execution_count": 14,
   "metadata": {},
   "outputs": [],
   "source": [
    "# fancy-pants dict comprehension to reshape data\n",
    "\n",
    "ambiguity_by_sequence = { \n",
    "        (seq, code) : count \n",
    "            for (seq, ambig_list) in ambiguity_codes_data.items()\n",
    "            for (count, code, name, alternatives) in  ambig_list \n",
    "}\n",
    "\n",
    "#pp.pprint(ambiguity_by_sequence)get_all_ambiguity_counts_for"
   ]
  },
  {
   "cell_type": "markdown",
   "metadata": {},
   "source": [
    "Change the following code so that it works. Note in particular the use of descriptive variable names and an explanatory long comment. "
   ]
  },
  {
   "cell_type": "code",
   "execution_count": null,
   "metadata": {},
   "outputs": [],
   "source": [
    "def get_all_ambiguity_counts_for(dna_sequence):\n",
    "    '''\n",
    "    Returns a summary of the counts of the ambiguity codes for this sequence, \n",
    "    as computed in ambiguity_summary_data, as a list of counts in sorted order of codes.\n",
    "    \n",
    "    Assumes that ambiguity_by_sequence is a dict with a dna sequence as a key, and \n",
    "    (count, code, name, alternatives) as the value, where ambiguity code code, with name name,\n",
    "    appears count times in the sequence, and alternatives is a list of the possible values for that code.\n",
    "    '''\n",
    "    if dna_sequence not in ambiguity_codes_data:\n",
    "        print('**ERROR**: no entry for ', dna_sequence)\n",
    "        return []\n",
    "    output_list = ... YOUR CODE HERE ...\n",
    "    for code in sorted(disambiguate.keys()):\n",
    "        output_list.append(str(ambiguity_by_sequence.get((dna_sequence, code), '0')))\n",
    "    return output_list"
   ]
  },
  {
   "cell_type": "code",
   "execution_count": 15,
   "metadata": {},
   "outputs": [
    {
     "name": "stdout",
     "output_type": "stream",
     "text": [
      "B\tD\tH\tK\tM\tN\tR\tS\tV\tW\tY\n",
      "0\t2\t1\t0\t0\t0\t0\t1\t0\t1\t0\n",
      "1\t2\t1\t1\t0\t0\t0\t0\t1\t0\t0\n",
      "1\t0\t0\t0\t1\t2\t1\t0\t0\t0\t0\n",
      "1\t0\t1\t0\t0\t0\t1\t0\t1\t1\t2\n",
      "0\t1\t1\t0\t2\t0\t1\t0\t0\t2\t0\n",
      "0\t0\t2\t0\t0\t0\t1\t1\t1\t0\t0\n"
     ]
    }
   ],
   "source": [
    "# print the actual report\n",
    "\n",
    "headers = sorted(disambiguate.keys())\n",
    "print('\\t'.join(headers))\n",
    "for next_sequence in input_sequences:\n",
    "    print('\\t'.join(get_all_ambiguity_counts_for(next_sequence)))"
   ]
  },
  {
   "cell_type": "markdown",
   "metadata": {},
   "source": [
    "*** EXTRA CREDIT ***\n",
    "\n",
    "Why is there a *sort()* in the above code? What happens if you leave it out?"
   ]
  },
  {
   "cell_type": "markdown",
   "metadata": {},
   "source": [
    "*Your answer here:*\n"
   ]
  },
  {
   "cell_type": "markdown",
   "metadata": {},
   "source": [
    "## Grading\n",
    "There is little scope for cleverness here, so we will use the following grades:\n",
    "\n",
    "grade | if\n",
    "----- | :---------\n",
    "0     | you don't turn in anything (in the *master* branch of *HW6* in your private repo)\n",
    "1     | you turn in something but it isn't correct\n",
    "2     | you turn in something, some is correct but some isn't\n",
    "3     | All of your code is correct, but it violates proper style, or has poor/missing comments\n",
    "4     | what you turned in is correct, stylish, and complete and you answer the question\n"
   ]
  },
  {
   "cell_type": "code",
   "execution_count": null,
   "metadata": {},
   "outputs": [],
   "source": []
  }
 ],
 "metadata": {
  "anaconda-cloud": {},
  "kernelspec": {
   "display_name": "Python [default]",
   "language": "python",
   "name": "python3"
  },
  "language_info": {
   "codemirror_mode": {
    "name": "ipython",
    "version": 3
   },
   "file_extension": ".py",
   "mimetype": "text/x-python",
   "name": "python",
   "nbconvert_exporter": "python",
   "pygments_lexer": "ipython3",
   "version": "3.5.4"
  },
  "latex_envs": {
   "bibliofile": "biblio.bib",
   "cite_by": "apalike",
   "current_citInitial": 1,
   "eqLabelWithNumbers": true,
   "eqNumInitial": 0
  }
 },
 "nbformat": 4,
 "nbformat_minor": 2
}
