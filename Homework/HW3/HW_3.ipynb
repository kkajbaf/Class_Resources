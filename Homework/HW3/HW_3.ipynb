{
 "cells": [
  {
   "cell_type": "markdown",
   "metadata": {},
   "source": [
    "### HW 3 codon usage\n",
    "\n",
    "**Assigned:** 4 September, lecture 5\n",
    "\n",
    "**Due:** 25 September, lecture 11\n",
    "\n",
    "Please put all your work in a directory named HW3 on your private repo, so we can keep the different homework solutions separated.\n",
    "\n",
    "# Homework description\n",
    "\n",
    "In this homework assigment, we will compute the codon usage of a DNA sequence.\n",
    "\n",
    "Remember that mRNA gets translated into a protein in chunks of three nucleotides each, called *codons*. \n",
    "This is because the ribosome binds to the DNA in units of three nucleotides (the *codon*), extending the protein it is building by the amino acid corresponding to that codon. \n",
    "\n",
    "The mapping between codons and amino acides is *degenerate* in that more than one codon may encode for a particular amino acid. \n",
    "But organisms do not use synonymous codons with equal frequency. \n",
    "The frequency with which an organism uses each codon may therefore be diagnostic of that organism, saying something about its biology or its evolutionary history.\n",
    "\n",
    "Assume that we have a DNA sequence that is \"in frame\", meaning the first codon is the first three nucleotides, and any nucleotides at the end that aren't used are just thrown away. \n",
    "\n",
    "We will count the number of times each codon is used, in this RNA:\n",
    "\n",
    ">'CGCAGCUAACGCUAACGCCGCCCGCGCCAACGCUGAA'\n",
    "\n",
    "In both cases, we will print a list of tuples of the form (codon,count) where *codon* appears *count* times in the sequence.\n",
    "\n",
    "For example, if we have\n",
    ">CGCAGCCGCA\n",
    "\n",
    "The output will be\n",
    "\n",
    ">[ ('CGC',2), ('AGC',1) ]"
   ]
  },
  {
   "cell_type": "markdown",
   "metadata": {},
   "source": [
    "## Approach\n",
    "\n",
    "The highest level of abstraction is:\n",
    "\n",
    ">count the codons in the given sequence\n",
    "\n",
    "A lower level is:\n",
    "\n",
    ">go down the sequence from left to right in chunks of three\n",
    ">>keep the codon in that \"chunk\"\n",
    ">>add one to the count for that codon\n",
    "\n",
    "A lower level still is:\n",
    "\n",
    ">\\#Put the codons in a list\n",
    ">Repeat until we run out of sequence\n",
    ">>remove the first three characters from the sequence, that's our codon\n",
    ">>add that codon to a list of codons we have seen with a count of 1\n",
    ">\n",
    ">Go through the list of codons we have seen, adding together the counts for identical codons\n",
    "\n",
    "That last line needs further refinement."
   ]
  },
  {
   "cell_type": "markdown",
   "metadata": {},
   "source": [
    "### first, initialize variables we think we'll need\n",
    "\n",
    "You know you need a place to store the nucleotide sequence. \n",
    "You also want to count the number of times youv'e seen each codon. \n",
    "\n",
    "Think carefully about data types. \n",
    "\n",
    "Use good names for your variables. "
   ]
  },
  {
   "cell_type": "code",
   "execution_count": null,
   "metadata": {},
   "outputs": [],
   "source": [
    "DNA = 'CGCAGCUAACGCAUUAAGCACUCCGCCUGGGGAGUACGACCGCAAGGUUGAA' # there's an error here. fix it.\n",
    "\n",
    "codon_counts =     # your code here. What data structure makes sense here? Hint: you need to count codons."
   ]
  },
  {
   "cell_type": "markdown",
   "metadata": {},
   "source": [
    "### chop the sequence up into codons\n",
    "\n",
    "The logic here is to go through the nucleotide sequence, pulling off the \"next\" codon. \n",
    "since we may not have a multiple of three nucleotides, assume that the first three nucleotides are actually the first codon.\n",
    "So, pull off the first three nucleotides. \n",
    "\"Pull off\" means \"take them out of the sequence, so that it is shorter but we remember what they were\". \n",
    "\n",
    "Once we have a codon, we know we've seen it one (more) time.\n",
    "So, keep track of the fact that we've seen this codon one more time, but putting the codon and a count in a list somewhere. \n",
    "Since we want one entry in the list to have two data items (a codon and a count), a tuple should work.\n",
    "Hence, we want a list of tuples. "
   ]
  },
  {
   "cell_type": "code",
   "execution_count": null,
   "metadata": {},
   "outputs": [],
   "source": [
    "while len(RNA) >= 3:\n",
    "    next_codon = RNA[xxx:xxx]    # change the xxx's, gets the next codon\n",
    "    RNA = RNA[xxx:xxx]           # change the xxx's, chops off the first codon\n",
    "    codon_counts.append((xxx,1)) # change xxx. says we've seen this one once\n",
    "\n",
    "# sort codon_counts: YOUR CODE HERE"
   ]
  },
  {
   "cell_type": "markdown",
   "metadata": {},
   "source": [
    "### gather identical codons and add their counts\n",
    "\n",
    "The logic here is (itentiohnally) awkward.\n",
    "We will see a *much* better way to do this later (with *dict*s).\n",
    "\n",
    "We have a list of tuples, each with a codon and a count. \n",
    "The logic is to pull off a tuple, and compare that to the next tuple (by pulling *that* one off). \n",
    "If the two tuples have the same codon, then add their counts together and replace the last tuple you saw with a new one that has the same codon and the new count. \n",
    "Now, put this updated tuple back in the list. \n",
    "\n",
    "Try to solve this problem with pencil and paper, so you have an idea for how to do it. \n",
    "you should be able to work through an example of how this code works. \n",
    "It might help to use a shorter string, such as\n",
    "\n",
    ">RNA = 'CGCAGCCGCAUC'\n",
    "\n",
    "Remember, you can always put *print* statements into the code to show what's happening. \n",
    "You can always remove the prints before you turn the assignment in. \n",
    "\n",
    "Note that this code uses *tuples* of the form *(codon, count)* to count the number of times *codon* appears. \n",
    "Tuples are natural here, because we don't want to change them. \n",
    "But *dicts* will be more natural (later)"
   ]
  },
  {
   "cell_type": "code",
   "execution_count": null,
   "metadata": {},
   "outputs": [],
   "source": [
    "codon_counts.sort()              # why? try commenting this out to see what happens\n",
    "non_redundant_counts = []        # list of (c,n) where codon c occurs n times, and each c is unique\n",
    "while len(codon_counts) > 1:     # why is this necessary?\n",
    "    first = codon_counts.pop()\n",
    "    second = codon_counts.pop()\n",
    "    \n",
    "    c1, n1 = first\n",
    "    c2, n2 = second\n",
    "    \n",
    "    if c1 == c2:\n",
    "        codon_counts.append((c1, n1+n2))  # update counts for c1, put it back\n",
    "    else:\n",
    "        non_redundant_counts.append((c1,n1)) # keep the unique one\n",
    "        codon_counts.append((c2,n2))         # put the other back\n",
    "    \n",
    "non_redundant_counts = non_redundant_counts + codon_counts # keep any leftovers\n",
    "\n",
    "print(non_redundant_counts)\n",
    "\n",
    "# Assertion: non_redundant_counts = [(c1,n1), (c2,n2), ...] where c1, c2...are unique codons which appear\n",
    "# in RNA n1, n2, ... times repectively"
   ]
  },
  {
   "cell_type": "code",
   "execution_count": null,
   "metadata": {},
   "outputs": [],
   "source": [
    "print(non_redundant_counts)"
   ]
  },
  {
   "cell_type": "markdown",
   "metadata": {},
   "source": [
    "## Grading\n",
    "There is little scope for cleverness here, so we will use the following grades:\n",
    "\n",
    "grade | if\n",
    "----- | :---------\n",
    "0     | you don't turn in anything (in the *master* branch of *HW3* in your private repo)\n",
    "1     | you turn in something but it isn't correct\n",
    "2     | you turn in something, some is correct but some isn't\n",
    "3     | All of your code is correct, but it violates proper style, or has poor/missing comments\n",
    "4     | what you turned in is correct, stylish, and complete"
   ]
  },
  {
   "cell_type": "code",
   "execution_count": null,
   "metadata": {},
   "outputs": [],
   "source": []
  }
 ],
 "metadata": {
  "anaconda-cloud": {},
  "kernelspec": {
   "display_name": "Python 2",
   "language": "python",
   "name": "python2"
  },
  "language_info": {
   "codemirror_mode": {
    "name": "ipython",
    "version": 2
   },
   "file_extension": ".py",
   "mimetype": "text/x-python",
   "name": "python",
   "nbconvert_exporter": "python",
   "pygments_lexer": "ipython2",
   "version": "2.7.15"
  },
  "latex_envs": {
   "bibliofile": "biblio.bib",
   "cite_by": "apalike",
   "current_citInitial": 1,
   "eqLabelWithNumbers": true,
   "eqNumInitial": 0
  }
 },
 "nbformat": 4,
 "nbformat_minor": 2
}
