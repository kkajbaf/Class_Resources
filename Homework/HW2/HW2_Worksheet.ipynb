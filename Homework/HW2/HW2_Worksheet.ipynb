{
 "cells": [
  {
   "cell_type": "markdown",
   "metadata": {},
   "source": [
    "### Homework 2: a simple python program\n",
    "\n",
    "Here, you will write a simple python program. Note that this one can be ugly if necessary, but it has to be correct. We will modify this in later homework. \n",
    "\n",
    "Fill out this jupyter notebook, adding code to the cells that say to do so. Be sure to save your final version.\n",
    "\n",
    "**Assigned:** 4 September, lecture 5\n",
    "\n",
    "**Due:** 13 September (Class 8)\n",
    "\n",
    "Please put all your work in a directory named *HW2* on your private repo, so we can keep the different homework solutions separated.\n"
   ]
  },
  {
   "cell_type": "markdown",
   "metadata": {},
   "source": [
    "## Count the number of A's, C's, G's, and T's in the following DNA sequence (it has 52 nucleotides)\n",
    "\n",
    "```\n",
    "CGCAGCTAACGCATTAAGCACTCCGCCTGGGGAGTACGACCGCAAGGTTGAA\n",
    "```"
   ]
  },
  {
   "cell_type": "code",
   "execution_count": null,
   "metadata": {},
   "outputs": [],
   "source": [
    "# add your code to this cell\n",
    "\n",
    "DNA = 'CGCAGCTAACGCATTAAGCACTCCGCCTGGGGAGTACGACCGCAAGGTTGAA'\n",
    "\n",
    "# initialize your counters\n",
    "number_of_As =  \n",
    "number_of_Cs = \n",
    "number_of_Gs =\n",
    "number_of_Ts = \n",
    "\n",
    "for nucleotide in DNA:\n",
    "    if nucleotide == 'A':\n",
    "        number_of_As =      # use python code to make this work\n",
    "    elif nucleotide == 'C':\n",
    "        number_of_Cs =\n",
    "    elif nucleotide == 'G':\n",
    "        number_of_Gs =\n",
    "    elif nucleotide == 'T':\n",
    "        number_of_Ts = "
   ]
  },
  {
   "cell_type": "markdown",
   "metadata": {},
   "source": [
    "## Compute the GC content of *DNA*\n",
    "\n",
    "Use above information and *len(DNA)*"
   ]
  },
  {
   "cell_type": "code",
   "execution_count": null,
   "metadata": {},
   "outputs": [],
   "source": [
    "GC_content = ( + ) / "
   ]
  },
  {
   "cell_type": "markdown",
   "metadata": {},
   "source": [
    "## Print the following output\n",
    "\n",
    " ```\n",
    " sequence: *sequence*\n",
    " A's: *number of A's*\n",
    " C's: *number of C's*\n",
    " T's: *number of T's*\n",
    " G's: *number of G's*\n",
    " GC content: *gc content*\n",
    "```\n",
    "\n",
    "Where \\*sequence\\* is *DNA_1*, \\*number of x's\\* is the number of nucleotide x in \\*sequence\\*, and \\*gc content\\* is the gc content of \\*sequence\\*. \n",
    "The GC content of a sequence is:\n",
    "\n",
    ">( (number of G's) + (number of C's) ) / (length of the sequence)\n",
    "\n",
    "For example, with sequence \"AAGGCCC\" the output should be (the gc content may have more or fewer significant digits on your system)\n",
    "\n",
    "```\n",
    "sequence: *sequence*\n",
    "A's: 2\n",
    "C's: 3\n",
    "T's: 0\n",
    "G's: 2\n",
    "GC content: 0.714285714\n",
    "```\n",
    "\n",
    "Hint: it is smart to work with a smaller sequence that you can solve by hand until your code works. *Then* use the one required for this assignment."
   ]
  },
  {
   "cell_type": "code",
   "execution_count": null,
   "metadata": {},
   "outputs": [],
   "source": [
    "# your code here"
   ]
  },
  {
   "cell_type": "markdown",
   "metadata": {},
   "source": [
    "## Compute the  GC content for this sequence\n",
    "\n",
    "> CGCAGCTAACGCATTAAGCACTCCGCCTGGGGAGTACGACCGCAAGGTTGAA\n",
    "\n",
    "This time, do **not** use a *for* loop or *range()*. \n",
    "Rather, use *str.count()* and *len(str)*\n",
    "\n",
    "Just print\n",
    "\n",
    ">Number of C's and G's: *GC Count*\\tGC Content: *gc content*\n",
    "\n",
    "Where *GC Count* is the total number of G's and C's, and *gc content* is the gc content as above. \n",
    "\n",
    "For example, with sequence \"AAGGCCC\" the output should be (the gc content may have more or fewer significant digits on your system)\n",
    "\n",
    "```\n",
    "Number of C's and G's: 5\\tGC Content: 0.714285714\n",
    "```"
   ]
  },
  {
   "cell_type": "code",
   "execution_count": null,
   "metadata": {},
   "outputs": [],
   "source": [
    "# your code here\n",
    "\n",
    "DNA = 'CGCAGCTAACGCATTAAGCACTCCGCCTGGGGAGTACGACCGCAAGGTTGAA'\n",
    "\n",
    "number_of_Gs = DNA.count()    # use python code to make this work\n",
    "number_of_Cs = DNA.count()    # use python code to make this work\n",
    "GC_content = ( + ) / \n",
    "\n",
    "print(\"Number of C's and G's: \", ,\"\\tGC Content\")\n"
   ]
  },
  {
   "cell_type": "markdown",
   "metadata": {},
   "source": [
    "## Grading\n",
    "There is little scope for cleverness here, so we will use the following grades:\n",
    "\n",
    "grade | if\n",
    "----- | :---------\n",
    "0     | you don't turn in anything (in the *master* branch of *HW2* in your private repo)\n",
    "1     | you turn in something but it isn't correct\n",
    "3     | you turn in something and it is correct\n",
    "\n",
    "In the future, 2 will mean you turn in something that is correct, and 3 will mean it's correct, has good style, and perhaps does something special. "
   ]
  },
  {
   "cell_type": "code",
   "execution_count": null,
   "metadata": {},
   "outputs": [],
   "source": []
  }
 ],
 "metadata": {
  "anaconda-cloud": {},
  "kernelspec": {
   "display_name": "Python [default]",
   "language": "python",
   "name": "python3"
  },
  "language_info": {
   "codemirror_mode": {
    "name": "ipython",
    "version": 3
   },
   "file_extension": ".py",
   "mimetype": "text/x-python",
   "name": "python",
   "nbconvert_exporter": "python",
   "pygments_lexer": "ipython3",
   "version": "3.5.4"
  },
  "latex_envs": {
   "bibliofile": "biblio.bib",
   "cite_by": "apalike",
   "current_citInitial": 1,
   "eqLabelWithNumbers": true,
   "eqNumInitial": 0
  }
 },
 "nbformat": 4,
 "nbformat_minor": 2
}
