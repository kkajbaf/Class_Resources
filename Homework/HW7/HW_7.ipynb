{
 "cells": [
  {
   "cell_type": "markdown",
   "metadata": {},
   "source": [
    "# Homework 7: errors\n",
    "\n",
    "You will create a new function, and then break it and the functions you made in Homework 6!\n",
    "\n",
    "Fill out this jupyter notebook, adding code to the cells that say to do so. Be sure to save your final version.\n",
    "\n",
    "In this homework, you will have to develop your own test cases. We will run your code on our own test cases, so your code should work for sequence other than what you test them on! Think about how we might try to break your code. (better, work in a team and try to break each other's code.) One common way to break code is to give it empty input, for example.\n",
    "\n",
    "Remember that style matters. Use good function and variable names. Include appropriate comments. (one way to check this is to work in a team and \"walk through\" your code with someone else.)\n",
    "\n",
    "We will use inputs that are of the right type. For example, DNA reads will be strings of appropriate characters, not ints.\n",
    "\n",
    "**Assigned:** LN 15 10-09\n",
    "\n",
    "**Due:** LN 17 10-16\n",
    "\n",
    "Please put all your work in a directory named HW7 on your private repo, so we can keep the different homework solutions separated."
   ]
  },
  {
   "cell_type": "markdown",
   "metadata": {},
   "source": [
    "## Write new functions\n",
    "\n",
    "In HW 5 you wrote code to change a sequence into a list of open reading frames and then translate the ORFs into proteins.\n",
    "Since these are things you may want to do more than once, converrt the code to functions."
   ]
  },
  {
   "cell_type": "markdown",
   "metadata": {},
   "source": [
    "### ORF detection\n",
    "\n",
    "Write a function that converts a DNA sequence into a list of ORFs. Assume that the only reading frame of interest is the one you are given (not the other five). "
   ]
  },
  {
   "cell_type": "markdown",
   "metadata": {},
   "source": [
    "\n",
    "#### Question\n",
    "\n",
    "What do you do with a sequence that has a start codon, then another start codon, then a stop codon, then another stop codon? How many ORFs is that? Make a decision and justify your answer."
   ]
  },
  {
   "cell_type": "markdown",
   "metadata": {},
   "source": [
    "**Answer the question here:**\n"
   ]
  },
  {
   "cell_type": "markdown",
   "metadata": {},
   "source": [
    "#### your ORF function"
   ]
  },
  {
   "cell_type": "code",
   "execution_count": 10,
   "metadata": {
    "code_folding": []
   },
   "outputs": [],
   "source": [
    "# PUT YOUR ORF FUNCTION HERE"
   ]
  },
  {
   "cell_type": "markdown",
   "metadata": {},
   "source": [
    "### Translation\n",
    "\n",
    "Write a function that translates each ORF in a list of ORFs into a list of corresponding proteins."
   ]
  },
  {
   "cell_type": "code",
   "execution_count": 1,
   "metadata": {},
   "outputs": [],
   "source": [
    "# PUT YOUR TRANSLATION FUNCTION HERE\n"
   ]
  },
  {
   "cell_type": "markdown",
   "metadata": {},
   "source": [
    "## Break your code\n",
    "\n",
    "In each of these questions, you will first copy your working code to a cell, then revise your code so that it throws the required exception."
   ]
  },
  {
   "cell_type": "markdown",
   "metadata": {},
   "source": [
    "### Break *compute_content* from HW 6 \n",
    "\n",
    "Revise your *compute_content* function from HW6 so that it throws a *DivideByZero* exception on some inputs, but always gets the GC content correct. (hint, that means you can't just out a zero into the division when computing gc content)."
   ]
  },
  {
   "cell_type": "code",
   "execution_count": 2,
   "metadata": {},
   "outputs": [],
   "source": [
    "# copy your correct code here"
   ]
  },
  {
   "cell_type": "code",
   "execution_count": 3,
   "metadata": {},
   "outputs": [],
   "source": [
    "# put your broken code here"
   ]
  },
  {
   "cell_type": "markdown",
   "metadata": {},
   "source": [
    "### Break *compute_content* from HW 6 a different way\n",
    "\n",
    "Make your code throw a *TypeError*"
   ]
  },
  {
   "cell_type": "code",
   "execution_count": 4,
   "metadata": {},
   "outputs": [],
   "source": [
    "# copy your correct code here"
   ]
  },
  {
   "cell_type": "code",
   "execution_count": 5,
   "metadata": {},
   "outputs": [],
   "source": [
    "# put your broken code here"
   ]
  },
  {
   "cell_type": "markdown",
   "metadata": {},
   "source": [
    "### Break your ORF  code\n",
    "\n",
    "Make your code throw an *IndexError*"
   ]
  },
  {
   "cell_type": "code",
   "execution_count": 6,
   "metadata": {},
   "outputs": [],
   "source": [
    "# copy your correct code here"
   ]
  },
  {
   "cell_type": "code",
   "execution_count": 7,
   "metadata": {
    "code_folding": []
   },
   "outputs": [],
   "source": [
    "# put your broken code here"
   ]
  },
  {
   "cell_type": "markdown",
   "metadata": {},
   "source": [
    "## Extra Credit"
   ]
  },
  {
   "cell_type": "markdown",
   "metadata": {},
   "source": [
    "### Break your translation code\n",
    "\n",
    "Make your code throw a *KeyError*"
   ]
  },
  {
   "cell_type": "code",
   "execution_count": 8,
   "metadata": {},
   "outputs": [],
   "source": [
    "# copy your correct code here"
   ]
  },
  {
   "cell_type": "code",
   "execution_count": 9,
   "metadata": {},
   "outputs": [],
   "source": [
    "# put your broken code here"
   ]
  },
  {
   "cell_type": "markdown",
   "metadata": {},
   "source": [
    "## Grading\n",
    "\n",
    "grade | if\n",
    "----- | :---------\n",
    "0     | you don't turn in anything (in the *master* branch of *HW6* in your private repo)\n",
    "1     | you turn in something but it isn't correct\n",
    "2     | you turn in something, some is correct but some isn't\n",
    "3     | All of your code is correct, but it violates proper style, or has poor/missing comments\n",
    "4     | what you turned in is correct, stylish, and complete, and you answer all questions\n"
   ]
  },
  {
   "cell_type": "code",
   "execution_count": null,
   "metadata": {},
   "outputs": [],
   "source": []
  }
 ],
 "metadata": {
  "anaconda-cloud": {},
  "kernelspec": {
   "display_name": "Python [default]",
   "language": "python",
   "name": "python3"
  },
  "language_info": {
   "codemirror_mode": {
    "name": "ipython",
    "version": 3
   },
   "file_extension": ".py",
   "mimetype": "text/x-python",
   "name": "python",
   "nbconvert_exporter": "python",
   "pygments_lexer": "ipython3",
   "version": "3.5.4"
  },
  "latex_envs": {
   "bibliofile": "biblio.bib",
   "cite_by": "apalike",
   "current_citInitial": 1,
   "eqLabelWithNumbers": true,
   "eqNumInitial": 0
  }
 },
 "nbformat": 4,
 "nbformat_minor": 2
}
