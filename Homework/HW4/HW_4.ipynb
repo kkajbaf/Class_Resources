{
 "cells": [
  {
   "cell_type": "markdown",
   "metadata": {},
   "source": [
    "# HW 4 Ambiguity Codes\n",
    "\n",
    "**Assigned:** 4 September, Class 5\n",
    "\n",
    "**Due:** 27 September, Class 12\n",
    "\n",
    "Please put this in a HW4 directory in your private repo. You know the drill."
   ]
  },
  {
   "cell_type": "markdown",
   "metadata": {},
   "source": [
    "In a DNA sequence, characters other than A, C, G, T are *ambiguity codes*. These indicate that the sequencing technology couldn't completely figure out which nucleotide was there. For example, N means the nucleotide could not be determined, Y means the nucleotide is a pyrimidine, U means the nucleotide is a purine. \n",
    "\n",
    "Here is a list of some of the more common ambiguity codes:\n",
    "\n",
    "Code | Meaning\n",
    "---- | :-------\n",
    "K    | Keto, a G or a T\n",
    "M    | Amino, A or C\n",
    "R    | Purine, A or G\n",
    "Y    | Pyrimidine, C or Y\n",
    "S    | Strong, C or G (has triple bond)\n",
    "W    | Weak, A or T (has double bond)\n",
    "B    | not an A\n",
    "V    | not a T\n",
    "H    | not a G\n",
    "D    | not a C\n",
    "N    | no idea\n",
    "\n",
    "We will develop code to compute the amount of ambiguity in some DNA sequences."
   ]
  },
  {
   "cell_type": "markdown",
   "metadata": {},
   "source": [
    "We will use the following DNA sequences\n",
    "\n",
    "```\n",
    "'gdhwgtgcctgattttaagccgdst',\n",
    "'dccgcgttahgktdgtvgcttgcctb',\n",
    "'cnatcmagcaaatbcttaccgcatracn',\n",
    "'cgcgttaacvawtyytttcttgahacrtgbg',\n",
    "'acgmggtghgggcwadgtmwrtagacta',\n",
    "'cgcaagsacavccagcatcgthttaahtr'\n",
    " ```"
   ]
  },
  {
   "cell_type": "markdown",
   "metadata": {},
   "source": [
    "In case you're interested, here is the code I used to generate these sequences.\n",
    "It's worthwhile understanding how this works. \n",
    "Note: *rnd.randint(b)* produces a random integer between 0 and *b* (with uniform distribution), and \n",
    "*rnd.random()* produces a random float between *[0,1]* (with uniform distribution). \n",
    "\n",
    "Feel free to copy this code somewhere and play with it.\n",
    "\n",
    "```\n",
    "import numpy.random as rnd\n",
    "\n",
    "dna = []\n",
    "all_sequences = []\n",
    "DNA_LENGTH = 24\n",
    "NUMBER_OF_SEQUENCES = 6\n",
    "nucleotides = ['a','c','g','t']\n",
    "ambiguity_codes = ['k', 'm', 'r', 'y', 's', 'w', 'b', 'v', 'h', 'd', 'n']\n",
    "for next_sequence in range(NUMBER_OF_SEQUENCES):\n",
    "    dna = []\n",
    "    dna_length = DNA_LENGTH + rnd.randint(8)\n",
    "    for next_nucleotide_index in range(dna_length):\n",
    "        if rnd.random() < 0.75:\n",
    "            next_nucleotide = nucleotides[rnd.randint(len(nucleotides))]\n",
    "        else:\n",
    "            next_nucleotide = ambiguity_codes[rnd.randint(len(ambiguity_codes))]\n",
    "        dna.append(next_nucleotide)\n",
    "    all_sequences.append(''.join(dna))\n",
    "\n",
    "all_sequences\n",
    "```"
   ]
  },
  {
   "cell_type": "markdown",
   "metadata": {},
   "source": [
    "The output will be a tab-delimited table with 5 columns, one each for the number of As, Cs, Gs, and Ts (in that order) with the fifth column being the total number of ambiguity codes.\n",
    "\n",
    "Remember that str.count(x) counts the number of times x occurs in str."
   ]
  },
  {
   "cell_type": "code",
   "execution_count": null,
   "metadata": {},
   "outputs": [],
   "source": [
    "# your code here\n",
    "\n",
    "# CHANGE THE FOLLOWING THREE LINES!!!\n",
    "DNA_sequences = []\n",
    "nucleotides = []\n",
    "ambiguity_codes = []\n",
    "\n",
    "character_counts = [0,0,0,0,0]   # counts for A, C, G, T, and ambiguity codes\n",
    "\n",
    "print('A\\tC\\tG\\tT\\tAmbiguity codes')\n",
    "\n",
    "for next_sequence in DNA_sequences:\n",
    "    # add code here to update character_counts. \n",
    "    # (Hint: character_counts[0] = next_sequence.count('A') is a dumb, but effective bit of code\n",
    "    \n",
    "    print('\\t'.join(character_counts))"
   ]
  },
  {
   "cell_type": "markdown",
   "metadata": {},
   "source": [
    "### Answer the following questions"
   ]
  },
  {
   "cell_type": "markdown",
   "metadata": {},
   "source": [
    "1. Why does the code skeleton use *len(character_counts)*? Why not just *5*?\n",
    "\n",
    "**YOUR ANSWER HERE**"
   ]
  },
  {
   "cell_type": "markdown",
   "metadata": {},
   "source": [
    "2. What would happen if you change the DNA sequences to upper case?\n",
    "\n",
    "**YOUR ANSWER HERE**"
   ]
  },
  {
   "cell_type": "markdown",
   "metadata": {},
   "source": [
    "3. What does the *print('\\t'.join(character_counts))* line do?\n",
    "\n",
    "**YOUR ANSWER HERE**"
   ]
  },
  {
   "cell_type": "markdown",
   "metadata": {},
   "source": [
    "4. What would need to do to add '-' as an ambiguity code?\n",
    "\n",
    "**YOUR ANSWER HERE**"
   ]
  },
  {
   "cell_type": "markdown",
   "metadata": {},
   "source": [
    "## Grading\n",
    "There is little scope for cleverness here, so we will use the following grades:\n",
    "\n",
    "grade | if\n",
    "----- | :---------\n",
    "0     | you don't turn in anything (in the *master* branch of *HW2* in your private repo)\n",
    "1     | you turn in something but it isn't correct\n",
    "2     | you turn in something, some is correct but some isn't\n",
    "3     | (not used)\n",
    "4     | what you turned in is correct\n"
   ]
  },
  {
   "cell_type": "code",
   "execution_count": null,
   "metadata": {},
   "outputs": [],
   "source": []
  }
 ],
 "metadata": {
  "anaconda-cloud": {},
  "kernelspec": {
   "display_name": "Python [default]",
   "language": "python",
   "name": "python3"
  },
  "language_info": {
   "codemirror_mode": {
    "name": "ipython",
    "version": 3
   },
   "file_extension": ".py",
   "mimetype": "text/x-python",
   "name": "python",
   "nbconvert_exporter": "python",
   "pygments_lexer": "ipython3",
   "version": "3.5.5"
  },
  "latex_envs": {
   "bibliofile": "biblio.bib",
   "cite_by": "apalike",
   "current_citInitial": 1,
   "eqLabelWithNumbers": true,
   "eqNumInitial": 0
  }
 },
 "nbformat": 4,
 "nbformat_minor": 2
}
