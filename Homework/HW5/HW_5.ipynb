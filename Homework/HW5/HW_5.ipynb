{
 "cells": [
  {
   "cell_type": "markdown",
   "metadata": {},
   "source": [
    "# Homework 5: translation, ORFs\n",
    "\n",
    "Here, you will write simple python code, building on a template I have provided. \n",
    "\n",
    "Fill out this jupyter notebook, adding code to the cells that say to do so. Be sure to save your final version.\n",
    "\n",
    "**Assigned:** 20 September, Lecture 10\n",
    "\n",
    "**Due:** 9 October, Lecture 15\n",
    "\n",
    "Please put all your work in a directory named HW5 on your private repo, so we can keep the different homework solutions separated."
   ]
  },
  {
   "cell_type": "markdown",
   "metadata": {},
   "source": [
    "Here we will use *dict*s to translate DNA sequences and to find all *open reading frames*.\n",
    "\n",
    "Remember the central dogma of genetics: DNA sequences are translated into proteins (sequences of amino acids), through an RNA intermediate mechanism, by replacing codons (see Lecture 10).\n",
    "The (most common) mapping of codons to amino acids, known as the *translation table*, is given in the notes for Lecture 20, on 20 September. \n",
    "Translation begins with the codon *ATG*, skipping sequence before that if necessary.\n",
    "Translation continues until it reaches a *stop codon*: *TAA*, *TAG*, or *TGA*.\n",
    "\n",
    "The region of the DNA between *ATG* and a stop codon is called an *open reading frame* (ORF). \n",
    "By convention, we are excluding the start and stop codons from the ORF.\n",
    "An ORF is potentially a gene, since it has the potential to be translated into protein. \n",
    "\n",
    "Remember also that DNA sequences have six *reading frames*, three in the 5' to 3' direction, each offset by one nucleotide from the other two; and three on the reverse complement sequence (the 5' to 3' sequence reversed, with A, C, G, T replaced by T, G, C, A respectively). \n",
    "Thus, an **open** reading frame is part of a given reading frame which may be translated into a protein sequence.\n",
    "\n",
    "In this assignment, you will be given a DNA sequence, which by convention is in the 5' to 3' direction. \n",
    "We are ignoring all other reading frames.\n",
    "You will build a list of codons for this sequence. \n",
    "You will then translate this list into a string representing the encoded protein. "
   ]
  },
  {
   "cell_type": "markdown",
   "metadata": {},
   "source": [
    "Here are two examples.\n",
    "\n",
    "given \n",
    "\n",
    "'ccATGgaaggctgcttcacagctgtgtacttacgaggtctctcaagcgaagttagtacc'\n",
    "return \n",
    "\n",
    ">list_of_orfs = [] # (the only 'atg' is out of frame\n",
    ">encoded_protein = '' # because there's nothing to translate\n",
    "\n",
    "But given\n",
    "\n",
    ">'cccATGgaaTAGggctgcttcATGacagctgtgtacttaTGAcgaggtctctcaagcgaagttagtacc'\n",
    "\n",
    "return\n",
    "\n",
    ">list_of_orfs = ['gaa', 'acagctgtgtactta']\n",
    ">encoded_proteins = ['E', 'TAVYL']\n",
    "\n",
    "You will working with \n",
    "\n",
    ">list_of_codons = ['cgg', 'cgg', 'ATG', 'aac', 'TAG', 'aac', 'ATG''cgc', 'ggc', 'gta', 'TAA', 'tcg', 'tta', 'att', 'ATG', 'tcc', 'cct', 'cca', 'gtt', 'gat', 'aag', 'att', 'TAA', 'tgt']\n",
    "\n",
    ">encoded_proteins = ['N', 'RGV', 'SPPVDKI']\n",
    "\n",
    "(note: I won't give you the tricky case where there are two start or end codons in a row! But think about that possibility.)\n",
    "\n",
    "(**important note:** the *case* of nucleotides or amino acids in this notebook is only there to make it easier to see start and stop codons. In practice, you should never rely on the case of a nucleotide designation--different sequence-providing program do different things.)"
   ]
  },
  {
   "cell_type": "markdown",
   "metadata": {},
   "source": [
    "## Your assignment\n",
    "\n",
    "translate all the orfs in the following sequence (and reading frame) into amino acid sequences.\n",
    "\n",
    ">'cggcggATGaacaacTAGcgcggcgtaATGtcgttaattTGAtccATGcctccagttgatTGAaagatttgt'\n",
    "\n",
    "Remember: your code should not be case-dependent.\n",
    "\n",
    "Also, a *very* useful trick is to convert a list of strings into a string by *join*ing the members of the list with the following code:\n",
    "\n",
    ">''.join(my_list)"
   ]
  },
  {
   "cell_type": "markdown",
   "metadata": {},
   "source": [
    "### Create a dict to look up codon:amino acid code\n",
    "You know you'll need a way to translate codons into amino acids.\n",
    "A dict is (clearly) the best data structure for the job. \n",
    "So, given a list of codons and a corresponding list of amino acids, zip them together into a dict called *codon_translation*, where \n",
    ">codon_translation['codon'] == the amino acid translation of 'codon'\n",
    "\n",
    "You could just copy and paste from lecture 10. But you need practice with *zip*, so...fill in \"zip(,)\" using the two lists below."
   ]
  },
  {
   "cell_type": "code",
   "execution_count": null,
   "metadata": {},
   "outputs": [],
   "source": [
    "### Create a dict to look up codon:amino acid code\n",
    "codons = ['TAG', 'CCT', 'TAT', 'CTT', 'CAG', 'GTA', \n",
    "          'GGT', 'ATT', 'TGT', 'ACC', 'GTC', 'CGT', \n",
    "          'AGG', 'GCA', 'TTG', 'AAG', 'AGT', 'CCC', \n",
    "          'ACG', 'GGC', 'TCG', 'AAC', 'GAC', 'GAT', \n",
    "          'ATA', 'TCC', 'TAC', 'GTT', 'ACA', 'ATC', \n",
    "          'CCA', 'CTG', 'GAA', 'TCA', 'CGG', 'AGC', \n",
    "          'CAA', 'CAC', 'GCC', 'TGC', 'CGC', 'TTA', \n",
    "          'GTG', 'ATG', 'CTC', 'ACT', 'TTT', 'GCT', \n",
    "          'CAT', 'TCT', 'AAA', 'TAA', 'GCG', 'CCG', \n",
    "          'GAG', 'GGA', 'TGA', 'GGG', 'TTC', 'TGG', \n",
    "          'AAT', 'AGA', 'CTA', 'CGA']\n",
    "amino_acids = ['_', 'P', 'Y', 'L', 'Q', 'V', 'G', 'I', 'C', \n",
    "               'T', 'V', 'R', 'R', 'A', 'L', 'K', 'S', 'P', \n",
    "               'T', 'G', 'S', 'N', 'D', 'D', 'I', 'S', 'Y', \n",
    "               'V', 'T', 'I', 'P', 'L', 'E', 'S', 'R', 'S', \n",
    "               'Q', 'H', 'A', 'C', 'R', 'L', 'V', 'M', 'L', \n",
    "               'T', 'F', 'A', 'H', 'S', 'K', '_', 'A', 'P', \n",
    "               'E', 'G', '_', 'G', 'F', 'W', 'N', 'R', 'L', 'R']\n",
    "\n",
    "codon_translation = dict(zip(,))  # complete this function"
   ]
  },
  {
   "cell_type": "markdown",
   "metadata": {},
   "source": [
    "### set up your DNA string variable\n",
    "\n",
    "We'll use this later.\n",
    "To make the case not be a problem, just make everything upper case now!"
   ]
  },
  {
   "cell_type": "code",
   "execution_count": null,
   "metadata": {},
   "outputs": [],
   "source": [
    "DNA = ''.upper()   # copy and paste is fine here. Note how we set things up to ignore case!"
   ]
  },
  {
   "cell_type": "markdown",
   "metadata": {},
   "source": [
    "### Get a list of codons from the input string\n",
    "\n",
    "See code comments for what you need to do. \n",
    "\n",
    "Remember, you can use a shorter DNA string of your own choosing while developing the code. It's easier to work with a simple example to which you know the answer, until you're convinced your code works!"
   ]
  },
  {
   "cell_type": "code",
   "execution_count": null,
   "metadata": {},
   "outputs": [],
   "source": [
    "# make list of codons\n",
    "list_of_codons =    # initialize this (hint: what is your \"list of codons\" so far?)\n",
    "\n",
    "for i in range(int(len(DNA)/3)):\n",
    "    list_of_codons.append(DNA[:???]) # fill in ??? (hint: how long is a codon?)\n",
    "    DNA = DNA[???:]\n",
    "\n",
    "print(list_of_codons)   # do this to be sure you're got it right"
   ]
  },
  {
   "cell_type": "markdown",
   "metadata": {},
   "source": [
    "### Get a list of the ORFs in the input\n",
    "\n",
    "We know that *list_of_codons* is a list of the codons in *DNA*. \n",
    "So, now we need to find start and stop codon pairs, and keep just the codons between the two. \n",
    "\n",
    "The following code is a little tricky, so you only need to initialize the two lists *orf_list* and *next_orf*.\n",
    "\n",
    "But, make an effort to understand what this code does."
   ]
  },
  {
   "cell_type": "code",
   "execution_count": null,
   "metadata": {},
   "outputs": [],
   "source": [
    "# make list of ORFs\n",
    "orf_list =     # FILL IN\n",
    "next_orf =     # FILL IN\n",
    "\n",
    "found_start, found_stop = False, False\n",
    "for next_codon in list_of_codons:\n",
    "    if next_codon == 'ATG':    # found start\n",
    "        found_start = True   # start looking for stop\n",
    "        found_stop = False\n",
    "        next_orf = []\n",
    "    if (next_codon == 'TAG') | (next_codon == 'TGA') | (next_codon == 'TAA'): # found stop\n",
    "        found_stop = True   # start looking for next start\n",
    "    if found_start:\n",
    "        next_orf.append(next_codon)\n",
    "        if found_stop:\n",
    "            orf_list.append(orf[1:-1])\n",
    "            next_orf = []\n",
    "            found_start, found_stop = False, False \n",
    "\n",
    "print('List of codons: ',list_of_codons,'\\nlist of orfs: ',orf_list)"
   ]
  },
  {
   "cell_type": "markdown",
   "metadata": {},
   "source": [
    "### Translate all orfs into proteins\n",
    "\n",
    "This code walks through the list of orfs you made above and translates each one into a protein using the dict you created for translation.\n",
    "\n",
    "The one \"trick\" in this code is that it first translates the orf (which is a list of codons) into a list of amino acids, then converts that list of amino acids into a string representing the protein (using *''.join(protein_translation)*, which we haven't explained yet). \n",
    "This is because lists are **much** more efficient to work with than strings, because lists are mutable but strings aren't. \n",
    "\n",
    "Fix the errors in the code. (there are two!)"
   ]
  },
  {
   "cell_type": "code",
   "execution_count": null,
   "metadata": {},
   "outputs": [],
   "source": [
    "all_translated_proteins = []\n",
    "for next_orf in orf_list:\n",
    "    protein_translation = []\n",
    "    for next_codon in next_orf:\n",
    "        protein_translation.append(codon_translations[next_codon])\n",
    "    all_translated_protein.append(''.join(protein_translation))\n",
    "\n",
    "print(all_translated_proteins)"
   ]
  },
  {
   "cell_type": "markdown",
   "metadata": {},
   "source": [
    "### (Extra Credit) ORFs in all reading frames\n",
    "\n",
    "The assignment above assumes that you have one DNA sequence in *DNA* and that this is the only reading frame of interest.\n",
    "\n",
    "But in reality there are six different *reading frames*, depending on whether you start at positions 0, 1, or 2 in either the DNA sequence (actually, we should be using RNA) or its reverse complement. \n",
    "\n",
    "1. Create an list named *reading_frames* which contains each of the six reading frames for *DNA*, "
   ]
  },
  {
   "cell_type": "code",
   "execution_count": null,
   "metadata": {},
   "outputs": [],
   "source": [
    "#your code here\n",
    "reading_frames = [ ... ] # fill this in"
   ]
  },
  {
   "cell_type": "markdown",
   "metadata": {},
   "source": [
    "2. (Discuss) What would you need to do to create a list of all open reading frames for each reading frame?"
   ]
  },
  {
   "cell_type": "markdown",
   "metadata": {},
   "source": [
    "(put your discussion here)"
   ]
  },
  {
   "cell_type": "markdown",
   "metadata": {},
   "source": [
    "## Grading\n",
    "There is little scope for cleverness here, so we will use the following grades:\n",
    "\n",
    "grade | if\n",
    "----- | :---------\n",
    "0     | you don't turn in anything (in the *master* branch of *HW6* in your private repo)\n",
    "1     | you turn in something but it isn't correct\n",
    "2     | you turn in something, some is correct but some isn't\n",
    "3     | All of your code is correct, but it violates proper style, or has poor/missing comments\n",
    "4     | what you turned in is correct, stylish, and complete"
   ]
  },
  {
   "cell_type": "code",
   "execution_count": null,
   "metadata": {},
   "outputs": [],
   "source": []
  }
 ],
 "metadata": {
  "anaconda-cloud": {},
  "kernelspec": {
   "display_name": "Python [conda env:anaconda]",
   "language": "python",
   "name": "conda-env-anaconda-py"
  },
  "language_info": {
   "codemirror_mode": {
    "name": "ipython",
    "version": 3
   },
   "file_extension": ".py",
   "mimetype": "text/x-python",
   "name": "python",
   "nbconvert_exporter": "python",
   "pygments_lexer": "ipython3",
   "version": "3.5.4"
  },
  "latex_envs": {
   "bibliofile": "biblio.bib",
   "cite_by": "apalike",
   "current_citInitial": 1,
   "eqLabelWithNumbers": true,
   "eqNumInitial": 0
  }
 },
 "nbformat": 4,
 "nbformat_minor": 2
}
